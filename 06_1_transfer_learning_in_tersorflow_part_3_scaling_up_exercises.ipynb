{
  "nbformat": 4,
  "nbformat_minor": 0,
  "metadata": {
    "colab": {
      "provenance": [],
      "gpuType": "T4"
    },
    "kernelspec": {
      "name": "python3",
      "display_name": "Python 3"
    },
    "language_info": {
      "name": "python"
    },
    "accelerator": "GPU"
  },
  "cells": [
    {
      "cell_type": "code",
      "execution_count": 1,
      "metadata": {
        "id": "SWmBzTa18aCT",
        "colab": {
          "base_uri": "https://localhost:8080/"
        },
        "outputId": "aa5ce8b2-3566-49d8-e608-630b846d541d"
      },
      "outputs": [
        {
          "output_type": "stream",
          "name": "stdout",
          "text": [
            "Fri Oct 13 22:05:19 2023       \n",
            "+-----------------------------------------------------------------------------+\n",
            "| NVIDIA-SMI 525.105.17   Driver Version: 525.105.17   CUDA Version: 12.0     |\n",
            "|-------------------------------+----------------------+----------------------+\n",
            "| GPU  Name        Persistence-M| Bus-Id        Disp.A | Volatile Uncorr. ECC |\n",
            "| Fan  Temp  Perf  Pwr:Usage/Cap|         Memory-Usage | GPU-Util  Compute M. |\n",
            "|                               |                      |               MIG M. |\n",
            "|===============================+======================+======================|\n",
            "|   0  Tesla T4            Off  | 00000000:00:04.0 Off |                    0 |\n",
            "| N/A   38C    P8     9W /  70W |      0MiB / 15360MiB |      0%      Default |\n",
            "|                               |                      |                  N/A |\n",
            "+-------------------------------+----------------------+----------------------+\n",
            "                                                                               \n",
            "+-----------------------------------------------------------------------------+\n",
            "| Processes:                                                                  |\n",
            "|  GPU   GI   CI        PID   Type   Process name                  GPU Memory |\n",
            "|        ID   ID                                                   Usage      |\n",
            "|=============================================================================|\n",
            "|  No running processes found                                                 |\n",
            "+-----------------------------------------------------------------------------+\n"
          ]
        }
      ],
      "source": [
        "# Check to see if we're using a GPU\n",
        "!nvidia-smi"
      ]
    },
    {
      "cell_type": "markdown",
      "source": [
        "## 101 food classes: working with less data\n",
        "Our goal is to beath the original Food101 paper with 10% of the training data."
      ],
      "metadata": {
        "id": "1XGDHLyDE2CJ"
      }
    },
    {
      "cell_type": "code",
      "source": [
        "!wget https://storage.googleapis.com/ztm_tf_course/food_vision/101_food_classes_10_percent.zip"
      ],
      "metadata": {
        "colab": {
          "base_uri": "https://localhost:8080/"
        },
        "id": "AT7f0iuIFB22",
        "outputId": "f9f0f7ad-8396-48be-e043-9a9a68543aa3"
      },
      "execution_count": 2,
      "outputs": [
        {
          "output_type": "stream",
          "name": "stdout",
          "text": [
            "--2023-10-13 22:07:05--  https://storage.googleapis.com/ztm_tf_course/food_vision/101_food_classes_10_percent.zip\n",
            "Resolving storage.googleapis.com (storage.googleapis.com)... 142.250.152.207, 74.125.201.207, 74.125.202.207, ...\n",
            "Connecting to storage.googleapis.com (storage.googleapis.com)|142.250.152.207|:443... connected.\n",
            "HTTP request sent, awaiting response... 200 OK\n",
            "Length: 1625420029 (1.5G) [application/zip]\n",
            "Saving to: ‘101_food_classes_10_percent.zip’\n",
            "\n",
            "101_food_classes_10 100%[===================>]   1.51G  80.5MB/s    in 23s     \n",
            "\n",
            "2023-10-13 22:07:29 (67.4 MB/s) - ‘101_food_classes_10_percent.zip’ saved [1625420029/1625420029]\n",
            "\n"
          ]
        }
      ]
    },
    {
      "cell_type": "code",
      "source": [
        "import zipfile\n",
        "zip_ref = zipfile.ZipFile(\"101_food_classes_10_percent.zip\")\n",
        "zip_ref.extractall()\n",
        "zip_ref.close()"
      ],
      "metadata": {
        "id": "WwlX_-1XFEx5"
      },
      "execution_count": 3,
      "outputs": []
    },
    {
      "cell_type": "code",
      "source": [
        "# How many images in each folder?\n",
        "import os\n",
        "\n",
        "# Walk through -1 percent data directory and list number of files\n",
        "for dirpath, dirnames, filenames in os.walk(\"101_food_classes_10_percent\"):\n",
        "  print(f\"There are {len(dirnames)} directories and {len(filenames)} images in `{dirpath}`\")"
      ],
      "metadata": {
        "colab": {
          "base_uri": "https://localhost:8080/"
        },
        "id": "xmRjQgS9HedJ",
        "outputId": "1d5f8c76-7d32-417d-bde5-ebb4f1e9eaae"
      },
      "execution_count": 7,
      "outputs": [
        {
          "output_type": "stream",
          "name": "stdout",
          "text": [
            "There are 2 directories and 0 images in `101_food_classes_10_percent`\n",
            "There are 101 directories and 0 images in `101_food_classes_10_percent/train`\n",
            "There are 0 directories and 75 images in `101_food_classes_10_percent/train/french_toast`\n",
            "There are 0 directories and 75 images in `101_food_classes_10_percent/train/frozen_yogurt`\n",
            "There are 0 directories and 75 images in `101_food_classes_10_percent/train/baklava`\n",
            "There are 0 directories and 75 images in `101_food_classes_10_percent/train/donuts`\n",
            "There are 0 directories and 75 images in `101_food_classes_10_percent/train/french_onion_soup`\n",
            "There are 0 directories and 75 images in `101_food_classes_10_percent/train/bruschetta`\n",
            "There are 0 directories and 75 images in `101_food_classes_10_percent/train/ramen`\n",
            "There are 0 directories and 75 images in `101_food_classes_10_percent/train/cheesecake`\n",
            "There are 0 directories and 75 images in `101_food_classes_10_percent/train/hot_dog`\n",
            "There are 0 directories and 75 images in `101_food_classes_10_percent/train/prime_rib`\n",
            "There are 0 directories and 75 images in `101_food_classes_10_percent/train/garlic_bread`\n",
            "There are 0 directories and 75 images in `101_food_classes_10_percent/train/breakfast_burrito`\n",
            "There are 0 directories and 75 images in `101_food_classes_10_percent/train/pulled_pork_sandwich`\n",
            "There are 0 directories and 75 images in `101_food_classes_10_percent/train/hot_and_sour_soup`\n",
            "There are 0 directories and 75 images in `101_food_classes_10_percent/train/greek_salad`\n",
            "There are 0 directories and 75 images in `101_food_classes_10_percent/train/pad_thai`\n",
            "There are 0 directories and 75 images in `101_food_classes_10_percent/train/onion_rings`\n",
            "There are 0 directories and 75 images in `101_food_classes_10_percent/train/ice_cream`\n",
            "There are 0 directories and 75 images in `101_food_classes_10_percent/train/miso_soup`\n",
            "There are 0 directories and 75 images in `101_food_classes_10_percent/train/pho`\n",
            "There are 0 directories and 75 images in `101_food_classes_10_percent/train/omelette`\n",
            "There are 0 directories and 75 images in `101_food_classes_10_percent/train/churros`\n",
            "There are 0 directories and 75 images in `101_food_classes_10_percent/train/pizza`\n",
            "There are 0 directories and 75 images in `101_food_classes_10_percent/train/scallops`\n",
            "There are 0 directories and 75 images in `101_food_classes_10_percent/train/fish_and_chips`\n",
            "There are 0 directories and 75 images in `101_food_classes_10_percent/train/beignets`\n",
            "There are 0 directories and 75 images in `101_food_classes_10_percent/train/shrimp_and_grits`\n",
            "There are 0 directories and 75 images in `101_food_classes_10_percent/train/chicken_wings`\n",
            "There are 0 directories and 75 images in `101_food_classes_10_percent/train/cup_cakes`\n",
            "There are 0 directories and 75 images in `101_food_classes_10_percent/train/cheese_plate`\n",
            "There are 0 directories and 75 images in `101_food_classes_10_percent/train/falafel`\n",
            "There are 0 directories and 75 images in `101_food_classes_10_percent/train/caprese_salad`\n",
            "There are 0 directories and 75 images in `101_food_classes_10_percent/train/spaghetti_carbonara`\n",
            "There are 0 directories and 75 images in `101_food_classes_10_percent/train/spaghetti_bolognese`\n",
            "There are 0 directories and 75 images in `101_food_classes_10_percent/train/deviled_eggs`\n",
            "There are 0 directories and 75 images in `101_food_classes_10_percent/train/grilled_salmon`\n",
            "There are 0 directories and 75 images in `101_food_classes_10_percent/train/hummus`\n",
            "There are 0 directories and 75 images in `101_food_classes_10_percent/train/fried_calamari`\n",
            "There are 0 directories and 75 images in `101_food_classes_10_percent/train/lasagna`\n",
            "There are 0 directories and 75 images in `101_food_classes_10_percent/train/gyoza`\n",
            "There are 0 directories and 75 images in `101_food_classes_10_percent/train/dumplings`\n",
            "There are 0 directories and 75 images in `101_food_classes_10_percent/train/ravioli`\n",
            "There are 0 directories and 75 images in `101_food_classes_10_percent/train/cannoli`\n",
            "There are 0 directories and 75 images in `101_food_classes_10_percent/train/risotto`\n",
            "There are 0 directories and 75 images in `101_food_classes_10_percent/train/guacamole`\n",
            "There are 0 directories and 75 images in `101_food_classes_10_percent/train/panna_cotta`\n",
            "There are 0 directories and 75 images in `101_food_classes_10_percent/train/poutine`\n",
            "There are 0 directories and 75 images in `101_food_classes_10_percent/train/macarons`\n",
            "There are 0 directories and 75 images in `101_food_classes_10_percent/train/caesar_salad`\n",
            "There are 0 directories and 75 images in `101_food_classes_10_percent/train/apple_pie`\n",
            "There are 0 directories and 75 images in `101_food_classes_10_percent/train/chicken_quesadilla`\n",
            "There are 0 directories and 75 images in `101_food_classes_10_percent/train/bibimbap`\n",
            "There are 0 directories and 75 images in `101_food_classes_10_percent/train/carrot_cake`\n",
            "There are 0 directories and 75 images in `101_food_classes_10_percent/train/crab_cakes`\n",
            "There are 0 directories and 75 images in `101_food_classes_10_percent/train/peking_duck`\n",
            "There are 0 directories and 75 images in `101_food_classes_10_percent/train/edamame`\n",
            "There are 0 directories and 75 images in `101_food_classes_10_percent/train/bread_pudding`\n",
            "There are 0 directories and 75 images in `101_food_classes_10_percent/train/beet_salad`\n",
            "There are 0 directories and 75 images in `101_food_classes_10_percent/train/fried_rice`\n",
            "There are 0 directories and 75 images in `101_food_classes_10_percent/train/red_velvet_cake`\n",
            "There are 0 directories and 75 images in `101_food_classes_10_percent/train/clam_chowder`\n",
            "There are 0 directories and 75 images in `101_food_classes_10_percent/train/french_fries`\n",
            "There are 0 directories and 75 images in `101_food_classes_10_percent/train/waffles`\n",
            "There are 0 directories and 75 images in `101_food_classes_10_percent/train/steak`\n",
            "There are 0 directories and 75 images in `101_food_classes_10_percent/train/pancakes`\n",
            "There are 0 directories and 75 images in `101_food_classes_10_percent/train/tiramisu`\n",
            "There are 0 directories and 75 images in `101_food_classes_10_percent/train/gnocchi`\n",
            "There are 0 directories and 75 images in `101_food_classes_10_percent/train/paella`\n",
            "There are 0 directories and 75 images in `101_food_classes_10_percent/train/huevos_rancheros`\n",
            "There are 0 directories and 75 images in `101_food_classes_10_percent/train/strawberry_shortcake`\n",
            "There are 0 directories and 75 images in `101_food_classes_10_percent/train/lobster_roll_sandwich`\n",
            "There are 0 directories and 75 images in `101_food_classes_10_percent/train/pork_chop`\n",
            "There are 0 directories and 75 images in `101_food_classes_10_percent/train/macaroni_and_cheese`\n",
            "There are 0 directories and 75 images in `101_food_classes_10_percent/train/sashimi`\n",
            "There are 0 directories and 75 images in `101_food_classes_10_percent/train/ceviche`\n",
            "There are 0 directories and 75 images in `101_food_classes_10_percent/train/tuna_tartare`\n",
            "There are 0 directories and 75 images in `101_food_classes_10_percent/train/filet_mignon`\n",
            "There are 0 directories and 75 images in `101_food_classes_10_percent/train/foie_gras`\n",
            "There are 0 directories and 75 images in `101_food_classes_10_percent/train/grilled_cheese_sandwich`\n",
            "There are 0 directories and 75 images in `101_food_classes_10_percent/train/eggs_benedict`\n",
            "There are 0 directories and 75 images in `101_food_classes_10_percent/train/spring_rolls`\n",
            "There are 0 directories and 75 images in `101_food_classes_10_percent/train/baby_back_ribs`\n",
            "There are 0 directories and 75 images in `101_food_classes_10_percent/train/beef_carpaccio`\n",
            "There are 0 directories and 75 images in `101_food_classes_10_percent/train/takoyaki`\n",
            "There are 0 directories and 75 images in `101_food_classes_10_percent/train/mussels`\n",
            "There are 0 directories and 75 images in `101_food_classes_10_percent/train/creme_brulee`\n",
            "There are 0 directories and 75 images in `101_food_classes_10_percent/train/chocolate_cake`\n",
            "There are 0 directories and 75 images in `101_food_classes_10_percent/train/hamburger`\n",
            "There are 0 directories and 75 images in `101_food_classes_10_percent/train/lobster_bisque`\n",
            "There are 0 directories and 75 images in `101_food_classes_10_percent/train/croque_madame`\n",
            "There are 0 directories and 75 images in `101_food_classes_10_percent/train/nachos`\n",
            "There are 0 directories and 75 images in `101_food_classes_10_percent/train/chicken_curry`\n",
            "There are 0 directories and 75 images in `101_food_classes_10_percent/train/sushi`\n",
            "There are 0 directories and 75 images in `101_food_classes_10_percent/train/beef_tartare`\n",
            "There are 0 directories and 75 images in `101_food_classes_10_percent/train/escargots`\n",
            "There are 0 directories and 75 images in `101_food_classes_10_percent/train/club_sandwich`\n",
            "There are 0 directories and 75 images in `101_food_classes_10_percent/train/seaweed_salad`\n",
            "There are 0 directories and 75 images in `101_food_classes_10_percent/train/chocolate_mousse`\n",
            "There are 0 directories and 75 images in `101_food_classes_10_percent/train/oysters`\n",
            "There are 0 directories and 75 images in `101_food_classes_10_percent/train/tacos`\n",
            "There are 0 directories and 75 images in `101_food_classes_10_percent/train/samosa`\n",
            "There are 101 directories and 0 images in `101_food_classes_10_percent/test`\n",
            "There are 0 directories and 250 images in `101_food_classes_10_percent/test/french_toast`\n",
            "There are 0 directories and 250 images in `101_food_classes_10_percent/test/frozen_yogurt`\n",
            "There are 0 directories and 250 images in `101_food_classes_10_percent/test/baklava`\n",
            "There are 0 directories and 250 images in `101_food_classes_10_percent/test/donuts`\n",
            "There are 0 directories and 250 images in `101_food_classes_10_percent/test/french_onion_soup`\n",
            "There are 0 directories and 250 images in `101_food_classes_10_percent/test/bruschetta`\n",
            "There are 0 directories and 250 images in `101_food_classes_10_percent/test/ramen`\n",
            "There are 0 directories and 250 images in `101_food_classes_10_percent/test/cheesecake`\n",
            "There are 0 directories and 250 images in `101_food_classes_10_percent/test/hot_dog`\n",
            "There are 0 directories and 250 images in `101_food_classes_10_percent/test/prime_rib`\n",
            "There are 0 directories and 250 images in `101_food_classes_10_percent/test/garlic_bread`\n",
            "There are 0 directories and 250 images in `101_food_classes_10_percent/test/breakfast_burrito`\n",
            "There are 0 directories and 250 images in `101_food_classes_10_percent/test/pulled_pork_sandwich`\n",
            "There are 0 directories and 250 images in `101_food_classes_10_percent/test/hot_and_sour_soup`\n",
            "There are 0 directories and 250 images in `101_food_classes_10_percent/test/greek_salad`\n",
            "There are 0 directories and 250 images in `101_food_classes_10_percent/test/pad_thai`\n",
            "There are 0 directories and 250 images in `101_food_classes_10_percent/test/onion_rings`\n",
            "There are 0 directories and 250 images in `101_food_classes_10_percent/test/ice_cream`\n",
            "There are 0 directories and 250 images in `101_food_classes_10_percent/test/miso_soup`\n",
            "There are 0 directories and 250 images in `101_food_classes_10_percent/test/pho`\n",
            "There are 0 directories and 250 images in `101_food_classes_10_percent/test/omelette`\n",
            "There are 0 directories and 250 images in `101_food_classes_10_percent/test/churros`\n",
            "There are 0 directories and 250 images in `101_food_classes_10_percent/test/pizza`\n",
            "There are 0 directories and 250 images in `101_food_classes_10_percent/test/scallops`\n",
            "There are 0 directories and 250 images in `101_food_classes_10_percent/test/fish_and_chips`\n",
            "There are 0 directories and 250 images in `101_food_classes_10_percent/test/beignets`\n",
            "There are 0 directories and 250 images in `101_food_classes_10_percent/test/shrimp_and_grits`\n",
            "There are 0 directories and 250 images in `101_food_classes_10_percent/test/chicken_wings`\n",
            "There are 0 directories and 250 images in `101_food_classes_10_percent/test/cup_cakes`\n",
            "There are 0 directories and 250 images in `101_food_classes_10_percent/test/cheese_plate`\n",
            "There are 0 directories and 250 images in `101_food_classes_10_percent/test/falafel`\n",
            "There are 0 directories and 250 images in `101_food_classes_10_percent/test/caprese_salad`\n",
            "There are 0 directories and 250 images in `101_food_classes_10_percent/test/spaghetti_carbonara`\n",
            "There are 0 directories and 250 images in `101_food_classes_10_percent/test/spaghetti_bolognese`\n",
            "There are 0 directories and 250 images in `101_food_classes_10_percent/test/deviled_eggs`\n",
            "There are 0 directories and 250 images in `101_food_classes_10_percent/test/grilled_salmon`\n",
            "There are 0 directories and 250 images in `101_food_classes_10_percent/test/hummus`\n",
            "There are 0 directories and 250 images in `101_food_classes_10_percent/test/fried_calamari`\n",
            "There are 0 directories and 250 images in `101_food_classes_10_percent/test/lasagna`\n",
            "There are 0 directories and 250 images in `101_food_classes_10_percent/test/gyoza`\n",
            "There are 0 directories and 250 images in `101_food_classes_10_percent/test/dumplings`\n",
            "There are 0 directories and 250 images in `101_food_classes_10_percent/test/ravioli`\n",
            "There are 0 directories and 250 images in `101_food_classes_10_percent/test/cannoli`\n",
            "There are 0 directories and 250 images in `101_food_classes_10_percent/test/risotto`\n",
            "There are 0 directories and 250 images in `101_food_classes_10_percent/test/guacamole`\n",
            "There are 0 directories and 250 images in `101_food_classes_10_percent/test/panna_cotta`\n",
            "There are 0 directories and 250 images in `101_food_classes_10_percent/test/poutine`\n",
            "There are 0 directories and 250 images in `101_food_classes_10_percent/test/macarons`\n",
            "There are 0 directories and 250 images in `101_food_classes_10_percent/test/caesar_salad`\n",
            "There are 0 directories and 250 images in `101_food_classes_10_percent/test/apple_pie`\n",
            "There are 0 directories and 250 images in `101_food_classes_10_percent/test/chicken_quesadilla`\n",
            "There are 0 directories and 250 images in `101_food_classes_10_percent/test/bibimbap`\n",
            "There are 0 directories and 250 images in `101_food_classes_10_percent/test/carrot_cake`\n",
            "There are 0 directories and 250 images in `101_food_classes_10_percent/test/crab_cakes`\n",
            "There are 0 directories and 250 images in `101_food_classes_10_percent/test/peking_duck`\n",
            "There are 0 directories and 250 images in `101_food_classes_10_percent/test/edamame`\n",
            "There are 0 directories and 250 images in `101_food_classes_10_percent/test/bread_pudding`\n",
            "There are 0 directories and 250 images in `101_food_classes_10_percent/test/beet_salad`\n",
            "There are 0 directories and 250 images in `101_food_classes_10_percent/test/fried_rice`\n",
            "There are 0 directories and 250 images in `101_food_classes_10_percent/test/red_velvet_cake`\n",
            "There are 0 directories and 250 images in `101_food_classes_10_percent/test/clam_chowder`\n",
            "There are 0 directories and 250 images in `101_food_classes_10_percent/test/french_fries`\n",
            "There are 0 directories and 250 images in `101_food_classes_10_percent/test/waffles`\n",
            "There are 0 directories and 250 images in `101_food_classes_10_percent/test/steak`\n",
            "There are 0 directories and 250 images in `101_food_classes_10_percent/test/pancakes`\n",
            "There are 0 directories and 250 images in `101_food_classes_10_percent/test/tiramisu`\n",
            "There are 0 directories and 250 images in `101_food_classes_10_percent/test/gnocchi`\n",
            "There are 0 directories and 250 images in `101_food_classes_10_percent/test/paella`\n",
            "There are 0 directories and 250 images in `101_food_classes_10_percent/test/huevos_rancheros`\n",
            "There are 0 directories and 250 images in `101_food_classes_10_percent/test/strawberry_shortcake`\n",
            "There are 0 directories and 250 images in `101_food_classes_10_percent/test/lobster_roll_sandwich`\n",
            "There are 0 directories and 250 images in `101_food_classes_10_percent/test/pork_chop`\n",
            "There are 0 directories and 250 images in `101_food_classes_10_percent/test/macaroni_and_cheese`\n",
            "There are 0 directories and 250 images in `101_food_classes_10_percent/test/sashimi`\n",
            "There are 0 directories and 250 images in `101_food_classes_10_percent/test/ceviche`\n",
            "There are 0 directories and 250 images in `101_food_classes_10_percent/test/tuna_tartare`\n",
            "There are 0 directories and 250 images in `101_food_classes_10_percent/test/filet_mignon`\n",
            "There are 0 directories and 250 images in `101_food_classes_10_percent/test/foie_gras`\n",
            "There are 0 directories and 250 images in `101_food_classes_10_percent/test/grilled_cheese_sandwich`\n",
            "There are 0 directories and 250 images in `101_food_classes_10_percent/test/eggs_benedict`\n",
            "There are 0 directories and 250 images in `101_food_classes_10_percent/test/spring_rolls`\n",
            "There are 0 directories and 250 images in `101_food_classes_10_percent/test/baby_back_ribs`\n",
            "There are 0 directories and 250 images in `101_food_classes_10_percent/test/beef_carpaccio`\n",
            "There are 0 directories and 250 images in `101_food_classes_10_percent/test/takoyaki`\n",
            "There are 0 directories and 250 images in `101_food_classes_10_percent/test/mussels`\n",
            "There are 0 directories and 250 images in `101_food_classes_10_percent/test/creme_brulee`\n",
            "There are 0 directories and 250 images in `101_food_classes_10_percent/test/chocolate_cake`\n",
            "There are 0 directories and 250 images in `101_food_classes_10_percent/test/hamburger`\n",
            "There are 0 directories and 250 images in `101_food_classes_10_percent/test/lobster_bisque`\n",
            "There are 0 directories and 250 images in `101_food_classes_10_percent/test/croque_madame`\n",
            "There are 0 directories and 250 images in `101_food_classes_10_percent/test/nachos`\n",
            "There are 0 directories and 250 images in `101_food_classes_10_percent/test/chicken_curry`\n",
            "There are 0 directories and 250 images in `101_food_classes_10_percent/test/sushi`\n",
            "There are 0 directories and 250 images in `101_food_classes_10_percent/test/beef_tartare`\n",
            "There are 0 directories and 250 images in `101_food_classes_10_percent/test/escargots`\n",
            "There are 0 directories and 250 images in `101_food_classes_10_percent/test/club_sandwich`\n",
            "There are 0 directories and 250 images in `101_food_classes_10_percent/test/seaweed_salad`\n",
            "There are 0 directories and 250 images in `101_food_classes_10_percent/test/chocolate_mousse`\n",
            "There are 0 directories and 250 images in `101_food_classes_10_percent/test/oysters`\n",
            "There are 0 directories and 250 images in `101_food_classes_10_percent/test/tacos`\n",
            "There are 0 directories and 250 images in `101_food_classes_10_percent/test/samosa`\n"
          ]
        }
      ]
    },
    {
      "cell_type": "code",
      "source": [
        "train_dir = \"101_food_classes_10_percent/train/\"\n",
        "test_dir = \"101_food_classes_10_percent/test/\""
      ],
      "metadata": {
        "id": "osfHY9AuIPep"
      },
      "execution_count": 8,
      "outputs": []
    },
    {
      "cell_type": "code",
      "source": [
        "# Setup data inputs\n",
        "import tensorflow as tf\n",
        "IMG_SIZE = (224, 224)\n",
        "\n",
        "train_data_all_10_percent = tf.keras.preprocessing.image_dataset_from_directory(train_dir,\n",
        "                                                                                label_mode=\"categorical\",\n",
        "                                                                                image_size=IMG_SIZE)\n",
        "\n",
        "test_data = tf.keras.preprocessing.image_dataset_from_directory(test_dir,\n",
        "                                                                label_mode=\"categorical\",\n",
        "                                                                image_size=IMG_SIZE,\n",
        "                                                                shuffle=False)  # don't shuffle test data for prediction analysis"
      ],
      "metadata": {
        "colab": {
          "base_uri": "https://localhost:8080/"
        },
        "id": "3WbEGMdlJC9o",
        "outputId": "09aa8293-7726-4968-e39a-22280b23ad44"
      },
      "execution_count": 9,
      "outputs": [
        {
          "output_type": "stream",
          "name": "stdout",
          "text": [
            "Found 7575 files belonging to 101 classes.\n",
            "Found 25250 files belonging to 101 classes.\n"
          ]
        }
      ]
    },
    {
      "cell_type": "markdown",
      "source": [
        "## Train a big dog model with transfer learning on 10% of 101 food classes"
      ],
      "metadata": {
        "id": "ereXTWjOJybi"
      }
    },
    {
      "cell_type": "code",
      "source": [
        "checkpoint_path = \"101_classes_10_percent_data_model_checkpoint\"\n",
        "checkpoint_callback = tf.keras.callbacks.ModelCheckpoint(checkpoint_path,\n",
        "                                                         save_weights_only=True,\n",
        "                                                         monitor=\"val_accuracy\",\n",
        "                                                         save_best_only=True)"
      ],
      "metadata": {
        "id": "IgfNv5mcKPFh"
      },
      "execution_count": 10,
      "outputs": []
    },
    {
      "cell_type": "code",
      "source": [
        "# Create data augmentation layer to incorporate it righ into the model\n",
        "from tensorflow.keras import layers\n",
        "from tensorflow.keras.layers.experimental import preprocessing\n",
        "from tensorflow.keras.models import Sequential\n",
        "\n",
        "# Setup data augmentation\n",
        "data_augmentation = Sequential([\n",
        "    preprocessing.RandomFlip(\"horizontal\"),\n",
        "    preprocessing.RandomRotation(0.2),\n",
        "    preprocessing.RandomHeight(0.2),\n",
        "    preprocessing.RandomWidth(0.2),\n",
        "    preprocessing.RandomZoom(0.2),\n",
        "    # preprocessing.Rescaling(1/255.)   # rescale inputs of images to between 0 and 1, required for models like ResNet50\n",
        "])"
      ],
      "metadata": {
        "id": "qr0qyAUZKy8e"
      },
      "execution_count": 11,
      "outputs": []
    },
    {
      "cell_type": "code",
      "source": [
        "# Setup the base model and freeze its layer (this will extract features)\n",
        "base_model = tf.keras.applications.EfficientNetB0(include_top=False)\n",
        "base_model.trainable = False\n",
        "\n",
        "# Set up model architecture with trainable top layers\n",
        "inputs = layers.Input(shape=(224, 224, 3), name=\"input_layer\")\n",
        "x = data_augmentation(inputs) # augment images (only happens during training phase)\n",
        "x = base_model(x, training=False) # put the base model in inference mode so weights which need to stay frozen, stay frozen\n",
        "x = layers.GlobalAveragePooling2D(name=\"global_avg_pool_layer\")(x)\n",
        "outputs = layers.Dense(len(train_data_all_10_percent.class_names), activation=\"softmax\", name=\"output_layer\")(x)\n",
        "model = tf.keras.Model(inputs, outputs)"
      ],
      "metadata": {
        "colab": {
          "base_uri": "https://localhost:8080/"
        },
        "id": "nzStPgeVLwng",
        "outputId": "0ffb3e95-a512-4f32-d9bc-8a3a993316ab"
      },
      "execution_count": 12,
      "outputs": [
        {
          "output_type": "stream",
          "name": "stdout",
          "text": [
            "Downloading data from https://storage.googleapis.com/keras-applications/efficientnetb0_notop.h5\n",
            "16705208/16705208 [==============================] - 0s 0us/step\n"
          ]
        }
      ]
    },
    {
      "cell_type": "code",
      "source": [
        "# Get a summary of model we've created\n",
        "model.summary()"
      ],
      "metadata": {
        "colab": {
          "base_uri": "https://localhost:8080/"
        },
        "id": "p9WtMdvkNo4L",
        "outputId": "d8e2f947-461c-457d-cc26-c19e72cc7ad8"
      },
      "execution_count": 13,
      "outputs": [
        {
          "output_type": "stream",
          "name": "stdout",
          "text": [
            "Model: \"model\"\n",
            "_________________________________________________________________\n",
            " Layer (type)                Output Shape              Param #   \n",
            "=================================================================\n",
            " input_layer (InputLayer)    [(None, 224, 224, 3)]     0         \n",
            "                                                                 \n",
            " sequential (Sequential)     (None, None, None, 3)     0         \n",
            "                                                                 \n",
            " efficientnetb0 (Functional  (None, None, None, 1280   4049571   \n",
            " )                           )                                   \n",
            "                                                                 \n",
            " global_avg_pool_layer (Glo  (None, 1280)              0         \n",
            " balAveragePooling2D)                                            \n",
            "                                                                 \n",
            " output_layer (Dense)        (None, 101)               129381    \n",
            "                                                                 \n",
            "=================================================================\n",
            "Total params: 4178952 (15.94 MB)\n",
            "Trainable params: 129381 (505.39 KB)\n",
            "Non-trainable params: 4049571 (15.45 MB)\n",
            "_________________________________________________________________\n"
          ]
        }
      ]
    },
    {
      "cell_type": "code",
      "source": [
        "# Compile the model\n",
        "model.compile(loss=\"categorical_crossentropy\",\n",
        "              optimizer=tf.keras.optimizers.Adam(),\n",
        "              metrics=[\"accuracy\"])"
      ],
      "metadata": {
        "id": "8yse_5vyNs7m"
      },
      "execution_count": 16,
      "outputs": []
    },
    {
      "cell_type": "code",
      "source": [
        "# Fit the model\n",
        "history_all_classes_10_percent = model.fit(train_data_all_10_percent,\n",
        "                                           epochs=10,\n",
        "                                           steps_per_epoch=len(train_data_all_10_percent),\n",
        "                                           validation_data=test_data,\n",
        "                                           validation_steps=int(0.15 * len(test_data)),\n",
        "                                           # Track model training logs\n",
        "                                           callbacks=[checkpoint_callback])"
      ],
      "metadata": {
        "colab": {
          "base_uri": "https://localhost:8080/"
        },
        "id": "L1O4yQr8N9dx",
        "outputId": "5c8b5026-45e0-455c-f83d-d7548e7ea022"
      },
      "execution_count": 17,
      "outputs": [
        {
          "output_type": "stream",
          "name": "stdout",
          "text": [
            "Epoch 1/10\n",
            "237/237 [==============================] - 126s 454ms/step - loss: 3.3897 - accuracy: 0.2752 - val_loss: 2.5711 - val_accuracy: 0.4399\n",
            "Epoch 2/10\n",
            "237/237 [==============================] - 80s 336ms/step - loss: 2.2059 - accuracy: 0.4931 - val_loss: 2.0827 - val_accuracy: 0.4992\n",
            "Epoch 3/10\n",
            "237/237 [==============================] - 71s 295ms/step - loss: 1.8228 - accuracy: 0.5690 - val_loss: 1.9360 - val_accuracy: 0.5185\n",
            "Epoch 4/10\n",
            "237/237 [==============================] - 65s 274ms/step - loss: 1.6057 - accuracy: 0.6050 - val_loss: 1.8533 - val_accuracy: 0.5294\n",
            "Epoch 5/10\n",
            "237/237 [==============================] - 60s 252ms/step - loss: 1.4506 - accuracy: 0.6400 - val_loss: 1.8087 - val_accuracy: 0.5360\n",
            "Epoch 6/10\n",
            "237/237 [==============================] - 59s 245ms/step - loss: 1.3291 - accuracy: 0.6735 - val_loss: 1.7356 - val_accuracy: 0.5442\n",
            "Epoch 7/10\n",
            "237/237 [==============================] - 55s 229ms/step - loss: 1.2404 - accuracy: 0.6962 - val_loss: 1.7432 - val_accuracy: 0.5432\n",
            "Epoch 8/10\n",
            "237/237 [==============================] - 50s 205ms/step - loss: 1.1529 - accuracy: 0.7133 - val_loss: 1.7385 - val_accuracy: 0.5416\n",
            "Epoch 9/10\n",
            "237/237 [==============================] - 52s 219ms/step - loss: 1.0726 - accuracy: 0.7377 - val_loss: 1.7145 - val_accuracy: 0.5516\n",
            "Epoch 10/10\n",
            "237/237 [==============================] - 48s 198ms/step - loss: 1.0119 - accuracy: 0.7533 - val_loss: 1.7407 - val_accuracy: 0.5440\n"
          ]
        }
      ]
    }
  ]
}