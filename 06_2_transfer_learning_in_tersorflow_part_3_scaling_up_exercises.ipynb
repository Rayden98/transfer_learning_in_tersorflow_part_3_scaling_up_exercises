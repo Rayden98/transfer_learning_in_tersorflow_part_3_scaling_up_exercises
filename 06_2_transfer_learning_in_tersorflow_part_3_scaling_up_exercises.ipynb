{
  "nbformat": 4,
  "nbformat_minor": 0,
  "metadata": {
    "colab": {
      "provenance": [],
      "gpuType": "T4"
    },
    "kernelspec": {
      "name": "python3",
      "display_name": "Python 3"
    },
    "language_info": {
      "name": "python"
    },
    "accelerator": "GPU"
  },
  "cells": [
    {
      "cell_type": "code",
      "execution_count": 1,
      "metadata": {
        "id": "xg7eyWI2OyOa",
        "outputId": "930c0e1f-9f3f-4b92-b75b-38667803c920",
        "colab": {
          "base_uri": "https://localhost:8080/"
        }
      },
      "outputs": [
        {
          "output_type": "stream",
          "name": "stdout",
          "text": [
            "Fri Oct 13 23:06:59 2023       \n",
            "+-----------------------------------------------------------------------------+\n",
            "| NVIDIA-SMI 525.105.17   Driver Version: 525.105.17   CUDA Version: 12.0     |\n",
            "|-------------------------------+----------------------+----------------------+\n",
            "| GPU  Name        Persistence-M| Bus-Id        Disp.A | Volatile Uncorr. ECC |\n",
            "| Fan  Temp  Perf  Pwr:Usage/Cap|         Memory-Usage | GPU-Util  Compute M. |\n",
            "|                               |                      |               MIG M. |\n",
            "|===============================+======================+======================|\n",
            "|   0  Tesla T4            Off  | 00000000:00:04.0 Off |                    0 |\n",
            "| N/A   43C    P8    10W /  70W |      0MiB / 15360MiB |      0%      Default |\n",
            "|                               |                      |                  N/A |\n",
            "+-------------------------------+----------------------+----------------------+\n",
            "                                                                               \n",
            "+-----------------------------------------------------------------------------+\n",
            "| Processes:                                                                  |\n",
            "|  GPU   GI   CI        PID   Type   Process name                  GPU Memory |\n",
            "|        ID   ID                                                   Usage      |\n",
            "|=============================================================================|\n",
            "|  No running processes found                                                 |\n",
            "+-----------------------------------------------------------------------------+\n"
          ]
        }
      ],
      "source": [
        "# Check to see if we're using a GPU\n",
        "!nvidia-smi"
      ]
    },
    {
      "cell_type": "markdown",
      "source": [
        "## 101 food classes: working with less data\n",
        "\n",
        "Our goal is to beath the original Food101 paper with 10% of the training data."
      ],
      "metadata": {
        "id": "vrcPIJWwPGMn"
      }
    },
    {
      "cell_type": "code",
      "source": [
        "!wget https://storage.googleapis.com/ztm_tf_course/food_vision/101_food_classes_10_percent.zip"
      ],
      "metadata": {
        "colab": {
          "base_uri": "https://localhost:8080/"
        },
        "id": "Sonqm0Z7PJ1u",
        "outputId": "24fb42c4-ed02-4349-cb9e-5c93a446949b"
      },
      "execution_count": 2,
      "outputs": [
        {
          "output_type": "stream",
          "name": "stdout",
          "text": [
            "--2023-10-13 23:07:00--  https://storage.googleapis.com/ztm_tf_course/food_vision/101_food_classes_10_percent.zip\n",
            "Resolving storage.googleapis.com (storage.googleapis.com)... 209.85.234.207, 142.251.172.207, 172.217.212.207, ...\n",
            "Connecting to storage.googleapis.com (storage.googleapis.com)|209.85.234.207|:443... connected.\n",
            "HTTP request sent, awaiting response... 200 OK\n",
            "Length: 1625420029 (1.5G) [application/zip]\n",
            "Saving to: ‘101_food_classes_10_percent.zip’\n",
            "\n",
            "101_food_classes_10 100%[===================>]   1.51G  89.0MB/s    in 16s     \n",
            "\n",
            "2023-10-13 23:07:15 (99.4 MB/s) - ‘101_food_classes_10_percent.zip’ saved [1625420029/1625420029]\n",
            "\n"
          ]
        }
      ]
    },
    {
      "cell_type": "code",
      "source": [
        "import zipfile\n",
        "zip_ref = zipfile.ZipFile(\"101_food_classes_10_percent.zip\")\n",
        "zip_ref.extractall()\n",
        "zip_ref.close()"
      ],
      "metadata": {
        "id": "CBCHGEpXPLmo"
      },
      "execution_count": 3,
      "outputs": []
    },
    {
      "cell_type": "code",
      "source": [
        "# How many images in each folder?\n",
        "import os\n",
        "\n",
        "# Walk through -1 percent data directory and list number of files\n",
        "for dirpath, dirnames, filenames in os.walk(\"101_food_classes_10_percent\"):\n",
        "  print(f\"There are {len(dirnames)} directories and {len(filenames)} images in `{dirpath}`\")"
      ],
      "metadata": {
        "colab": {
          "base_uri": "https://localhost:8080/"
        },
        "id": "7DWlH6MMPM7e",
        "outputId": "8c0087a2-48f2-4e90-ca8c-9f069006464b"
      },
      "execution_count": 4,
      "outputs": [
        {
          "output_type": "stream",
          "name": "stdout",
          "text": [
            "There are 2 directories and 0 images in `101_food_classes_10_percent`\n",
            "There are 101 directories and 0 images in `101_food_classes_10_percent/train`\n",
            "There are 0 directories and 75 images in `101_food_classes_10_percent/train/french_toast`\n",
            "There are 0 directories and 75 images in `101_food_classes_10_percent/train/frozen_yogurt`\n",
            "There are 0 directories and 75 images in `101_food_classes_10_percent/train/baklava`\n",
            "There are 0 directories and 75 images in `101_food_classes_10_percent/train/donuts`\n",
            "There are 0 directories and 75 images in `101_food_classes_10_percent/train/french_onion_soup`\n",
            "There are 0 directories and 75 images in `101_food_classes_10_percent/train/bruschetta`\n",
            "There are 0 directories and 75 images in `101_food_classes_10_percent/train/ramen`\n",
            "There are 0 directories and 75 images in `101_food_classes_10_percent/train/cheesecake`\n",
            "There are 0 directories and 75 images in `101_food_classes_10_percent/train/hot_dog`\n",
            "There are 0 directories and 75 images in `101_food_classes_10_percent/train/prime_rib`\n",
            "There are 0 directories and 75 images in `101_food_classes_10_percent/train/garlic_bread`\n",
            "There are 0 directories and 75 images in `101_food_classes_10_percent/train/breakfast_burrito`\n",
            "There are 0 directories and 75 images in `101_food_classes_10_percent/train/pulled_pork_sandwich`\n",
            "There are 0 directories and 75 images in `101_food_classes_10_percent/train/hot_and_sour_soup`\n",
            "There are 0 directories and 75 images in `101_food_classes_10_percent/train/greek_salad`\n",
            "There are 0 directories and 75 images in `101_food_classes_10_percent/train/pad_thai`\n",
            "There are 0 directories and 75 images in `101_food_classes_10_percent/train/onion_rings`\n",
            "There are 0 directories and 75 images in `101_food_classes_10_percent/train/ice_cream`\n",
            "There are 0 directories and 75 images in `101_food_classes_10_percent/train/miso_soup`\n",
            "There are 0 directories and 75 images in `101_food_classes_10_percent/train/pho`\n",
            "There are 0 directories and 75 images in `101_food_classes_10_percent/train/omelette`\n",
            "There are 0 directories and 75 images in `101_food_classes_10_percent/train/churros`\n",
            "There are 0 directories and 75 images in `101_food_classes_10_percent/train/pizza`\n",
            "There are 0 directories and 75 images in `101_food_classes_10_percent/train/scallops`\n",
            "There are 0 directories and 75 images in `101_food_classes_10_percent/train/fish_and_chips`\n",
            "There are 0 directories and 75 images in `101_food_classes_10_percent/train/beignets`\n",
            "There are 0 directories and 75 images in `101_food_classes_10_percent/train/shrimp_and_grits`\n",
            "There are 0 directories and 75 images in `101_food_classes_10_percent/train/chicken_wings`\n",
            "There are 0 directories and 75 images in `101_food_classes_10_percent/train/cup_cakes`\n",
            "There are 0 directories and 75 images in `101_food_classes_10_percent/train/cheese_plate`\n",
            "There are 0 directories and 75 images in `101_food_classes_10_percent/train/falafel`\n",
            "There are 0 directories and 75 images in `101_food_classes_10_percent/train/caprese_salad`\n",
            "There are 0 directories and 75 images in `101_food_classes_10_percent/train/spaghetti_carbonara`\n",
            "There are 0 directories and 75 images in `101_food_classes_10_percent/train/spaghetti_bolognese`\n",
            "There are 0 directories and 75 images in `101_food_classes_10_percent/train/deviled_eggs`\n",
            "There are 0 directories and 75 images in `101_food_classes_10_percent/train/grilled_salmon`\n",
            "There are 0 directories and 75 images in `101_food_classes_10_percent/train/hummus`\n",
            "There are 0 directories and 75 images in `101_food_classes_10_percent/train/fried_calamari`\n",
            "There are 0 directories and 75 images in `101_food_classes_10_percent/train/lasagna`\n",
            "There are 0 directories and 75 images in `101_food_classes_10_percent/train/gyoza`\n",
            "There are 0 directories and 75 images in `101_food_classes_10_percent/train/dumplings`\n",
            "There are 0 directories and 75 images in `101_food_classes_10_percent/train/ravioli`\n",
            "There are 0 directories and 75 images in `101_food_classes_10_percent/train/cannoli`\n",
            "There are 0 directories and 75 images in `101_food_classes_10_percent/train/risotto`\n",
            "There are 0 directories and 75 images in `101_food_classes_10_percent/train/guacamole`\n",
            "There are 0 directories and 75 images in `101_food_classes_10_percent/train/panna_cotta`\n",
            "There are 0 directories and 75 images in `101_food_classes_10_percent/train/poutine`\n",
            "There are 0 directories and 75 images in `101_food_classes_10_percent/train/macarons`\n",
            "There are 0 directories and 75 images in `101_food_classes_10_percent/train/caesar_salad`\n",
            "There are 0 directories and 75 images in `101_food_classes_10_percent/train/apple_pie`\n",
            "There are 0 directories and 75 images in `101_food_classes_10_percent/train/chicken_quesadilla`\n",
            "There are 0 directories and 75 images in `101_food_classes_10_percent/train/bibimbap`\n",
            "There are 0 directories and 75 images in `101_food_classes_10_percent/train/carrot_cake`\n",
            "There are 0 directories and 75 images in `101_food_classes_10_percent/train/crab_cakes`\n",
            "There are 0 directories and 75 images in `101_food_classes_10_percent/train/peking_duck`\n",
            "There are 0 directories and 75 images in `101_food_classes_10_percent/train/edamame`\n",
            "There are 0 directories and 75 images in `101_food_classes_10_percent/train/bread_pudding`\n",
            "There are 0 directories and 75 images in `101_food_classes_10_percent/train/beet_salad`\n",
            "There are 0 directories and 75 images in `101_food_classes_10_percent/train/fried_rice`\n",
            "There are 0 directories and 75 images in `101_food_classes_10_percent/train/red_velvet_cake`\n",
            "There are 0 directories and 75 images in `101_food_classes_10_percent/train/clam_chowder`\n",
            "There are 0 directories and 75 images in `101_food_classes_10_percent/train/french_fries`\n",
            "There are 0 directories and 75 images in `101_food_classes_10_percent/train/waffles`\n",
            "There are 0 directories and 75 images in `101_food_classes_10_percent/train/steak`\n",
            "There are 0 directories and 75 images in `101_food_classes_10_percent/train/pancakes`\n",
            "There are 0 directories and 75 images in `101_food_classes_10_percent/train/tiramisu`\n",
            "There are 0 directories and 75 images in `101_food_classes_10_percent/train/gnocchi`\n",
            "There are 0 directories and 75 images in `101_food_classes_10_percent/train/paella`\n",
            "There are 0 directories and 75 images in `101_food_classes_10_percent/train/huevos_rancheros`\n",
            "There are 0 directories and 75 images in `101_food_classes_10_percent/train/strawberry_shortcake`\n",
            "There are 0 directories and 75 images in `101_food_classes_10_percent/train/lobster_roll_sandwich`\n",
            "There are 0 directories and 75 images in `101_food_classes_10_percent/train/pork_chop`\n",
            "There are 0 directories and 75 images in `101_food_classes_10_percent/train/macaroni_and_cheese`\n",
            "There are 0 directories and 75 images in `101_food_classes_10_percent/train/sashimi`\n",
            "There are 0 directories and 75 images in `101_food_classes_10_percent/train/ceviche`\n",
            "There are 0 directories and 75 images in `101_food_classes_10_percent/train/tuna_tartare`\n",
            "There are 0 directories and 75 images in `101_food_classes_10_percent/train/filet_mignon`\n",
            "There are 0 directories and 75 images in `101_food_classes_10_percent/train/foie_gras`\n",
            "There are 0 directories and 75 images in `101_food_classes_10_percent/train/grilled_cheese_sandwich`\n",
            "There are 0 directories and 75 images in `101_food_classes_10_percent/train/eggs_benedict`\n",
            "There are 0 directories and 75 images in `101_food_classes_10_percent/train/spring_rolls`\n",
            "There are 0 directories and 75 images in `101_food_classes_10_percent/train/baby_back_ribs`\n",
            "There are 0 directories and 75 images in `101_food_classes_10_percent/train/beef_carpaccio`\n",
            "There are 0 directories and 75 images in `101_food_classes_10_percent/train/takoyaki`\n",
            "There are 0 directories and 75 images in `101_food_classes_10_percent/train/mussels`\n",
            "There are 0 directories and 75 images in `101_food_classes_10_percent/train/creme_brulee`\n",
            "There are 0 directories and 75 images in `101_food_classes_10_percent/train/chocolate_cake`\n",
            "There are 0 directories and 75 images in `101_food_classes_10_percent/train/hamburger`\n",
            "There are 0 directories and 75 images in `101_food_classes_10_percent/train/lobster_bisque`\n",
            "There are 0 directories and 75 images in `101_food_classes_10_percent/train/croque_madame`\n",
            "There are 0 directories and 75 images in `101_food_classes_10_percent/train/nachos`\n",
            "There are 0 directories and 75 images in `101_food_classes_10_percent/train/chicken_curry`\n",
            "There are 0 directories and 75 images in `101_food_classes_10_percent/train/sushi`\n",
            "There are 0 directories and 75 images in `101_food_classes_10_percent/train/beef_tartare`\n",
            "There are 0 directories and 75 images in `101_food_classes_10_percent/train/escargots`\n",
            "There are 0 directories and 75 images in `101_food_classes_10_percent/train/club_sandwich`\n",
            "There are 0 directories and 75 images in `101_food_classes_10_percent/train/seaweed_salad`\n",
            "There are 0 directories and 75 images in `101_food_classes_10_percent/train/chocolate_mousse`\n",
            "There are 0 directories and 75 images in `101_food_classes_10_percent/train/oysters`\n",
            "There are 0 directories and 75 images in `101_food_classes_10_percent/train/tacos`\n",
            "There are 0 directories and 75 images in `101_food_classes_10_percent/train/samosa`\n",
            "There are 101 directories and 0 images in `101_food_classes_10_percent/test`\n",
            "There are 0 directories and 250 images in `101_food_classes_10_percent/test/french_toast`\n",
            "There are 0 directories and 250 images in `101_food_classes_10_percent/test/frozen_yogurt`\n",
            "There are 0 directories and 250 images in `101_food_classes_10_percent/test/baklava`\n",
            "There are 0 directories and 250 images in `101_food_classes_10_percent/test/donuts`\n",
            "There are 0 directories and 250 images in `101_food_classes_10_percent/test/french_onion_soup`\n",
            "There are 0 directories and 250 images in `101_food_classes_10_percent/test/bruschetta`\n",
            "There are 0 directories and 250 images in `101_food_classes_10_percent/test/ramen`\n",
            "There are 0 directories and 250 images in `101_food_classes_10_percent/test/cheesecake`\n",
            "There are 0 directories and 250 images in `101_food_classes_10_percent/test/hot_dog`\n",
            "There are 0 directories and 250 images in `101_food_classes_10_percent/test/prime_rib`\n",
            "There are 0 directories and 250 images in `101_food_classes_10_percent/test/garlic_bread`\n",
            "There are 0 directories and 250 images in `101_food_classes_10_percent/test/breakfast_burrito`\n",
            "There are 0 directories and 250 images in `101_food_classes_10_percent/test/pulled_pork_sandwich`\n",
            "There are 0 directories and 250 images in `101_food_classes_10_percent/test/hot_and_sour_soup`\n",
            "There are 0 directories and 250 images in `101_food_classes_10_percent/test/greek_salad`\n",
            "There are 0 directories and 250 images in `101_food_classes_10_percent/test/pad_thai`\n",
            "There are 0 directories and 250 images in `101_food_classes_10_percent/test/onion_rings`\n",
            "There are 0 directories and 250 images in `101_food_classes_10_percent/test/ice_cream`\n",
            "There are 0 directories and 250 images in `101_food_classes_10_percent/test/miso_soup`\n",
            "There are 0 directories and 250 images in `101_food_classes_10_percent/test/pho`\n",
            "There are 0 directories and 250 images in `101_food_classes_10_percent/test/omelette`\n",
            "There are 0 directories and 250 images in `101_food_classes_10_percent/test/churros`\n",
            "There are 0 directories and 250 images in `101_food_classes_10_percent/test/pizza`\n",
            "There are 0 directories and 250 images in `101_food_classes_10_percent/test/scallops`\n",
            "There are 0 directories and 250 images in `101_food_classes_10_percent/test/fish_and_chips`\n",
            "There are 0 directories and 250 images in `101_food_classes_10_percent/test/beignets`\n",
            "There are 0 directories and 250 images in `101_food_classes_10_percent/test/shrimp_and_grits`\n",
            "There are 0 directories and 250 images in `101_food_classes_10_percent/test/chicken_wings`\n",
            "There are 0 directories and 250 images in `101_food_classes_10_percent/test/cup_cakes`\n",
            "There are 0 directories and 250 images in `101_food_classes_10_percent/test/cheese_plate`\n",
            "There are 0 directories and 250 images in `101_food_classes_10_percent/test/falafel`\n",
            "There are 0 directories and 250 images in `101_food_classes_10_percent/test/caprese_salad`\n",
            "There are 0 directories and 250 images in `101_food_classes_10_percent/test/spaghetti_carbonara`\n",
            "There are 0 directories and 250 images in `101_food_classes_10_percent/test/spaghetti_bolognese`\n",
            "There are 0 directories and 250 images in `101_food_classes_10_percent/test/deviled_eggs`\n",
            "There are 0 directories and 250 images in `101_food_classes_10_percent/test/grilled_salmon`\n",
            "There are 0 directories and 250 images in `101_food_classes_10_percent/test/hummus`\n",
            "There are 0 directories and 250 images in `101_food_classes_10_percent/test/fried_calamari`\n",
            "There are 0 directories and 250 images in `101_food_classes_10_percent/test/lasagna`\n",
            "There are 0 directories and 250 images in `101_food_classes_10_percent/test/gyoza`\n",
            "There are 0 directories and 250 images in `101_food_classes_10_percent/test/dumplings`\n",
            "There are 0 directories and 250 images in `101_food_classes_10_percent/test/ravioli`\n",
            "There are 0 directories and 250 images in `101_food_classes_10_percent/test/cannoli`\n",
            "There are 0 directories and 250 images in `101_food_classes_10_percent/test/risotto`\n",
            "There are 0 directories and 250 images in `101_food_classes_10_percent/test/guacamole`\n",
            "There are 0 directories and 250 images in `101_food_classes_10_percent/test/panna_cotta`\n",
            "There are 0 directories and 250 images in `101_food_classes_10_percent/test/poutine`\n",
            "There are 0 directories and 250 images in `101_food_classes_10_percent/test/macarons`\n",
            "There are 0 directories and 250 images in `101_food_classes_10_percent/test/caesar_salad`\n",
            "There are 0 directories and 250 images in `101_food_classes_10_percent/test/apple_pie`\n",
            "There are 0 directories and 250 images in `101_food_classes_10_percent/test/chicken_quesadilla`\n",
            "There are 0 directories and 250 images in `101_food_classes_10_percent/test/bibimbap`\n",
            "There are 0 directories and 250 images in `101_food_classes_10_percent/test/carrot_cake`\n",
            "There are 0 directories and 250 images in `101_food_classes_10_percent/test/crab_cakes`\n",
            "There are 0 directories and 250 images in `101_food_classes_10_percent/test/peking_duck`\n",
            "There are 0 directories and 250 images in `101_food_classes_10_percent/test/edamame`\n",
            "There are 0 directories and 250 images in `101_food_classes_10_percent/test/bread_pudding`\n",
            "There are 0 directories and 250 images in `101_food_classes_10_percent/test/beet_salad`\n",
            "There are 0 directories and 250 images in `101_food_classes_10_percent/test/fried_rice`\n",
            "There are 0 directories and 250 images in `101_food_classes_10_percent/test/red_velvet_cake`\n",
            "There are 0 directories and 250 images in `101_food_classes_10_percent/test/clam_chowder`\n",
            "There are 0 directories and 250 images in `101_food_classes_10_percent/test/french_fries`\n",
            "There are 0 directories and 250 images in `101_food_classes_10_percent/test/waffles`\n",
            "There are 0 directories and 250 images in `101_food_classes_10_percent/test/steak`\n",
            "There are 0 directories and 250 images in `101_food_classes_10_percent/test/pancakes`\n",
            "There are 0 directories and 250 images in `101_food_classes_10_percent/test/tiramisu`\n",
            "There are 0 directories and 250 images in `101_food_classes_10_percent/test/gnocchi`\n",
            "There are 0 directories and 250 images in `101_food_classes_10_percent/test/paella`\n",
            "There are 0 directories and 250 images in `101_food_classes_10_percent/test/huevos_rancheros`\n",
            "There are 0 directories and 250 images in `101_food_classes_10_percent/test/strawberry_shortcake`\n",
            "There are 0 directories and 250 images in `101_food_classes_10_percent/test/lobster_roll_sandwich`\n",
            "There are 0 directories and 250 images in `101_food_classes_10_percent/test/pork_chop`\n",
            "There are 0 directories and 250 images in `101_food_classes_10_percent/test/macaroni_and_cheese`\n",
            "There are 0 directories and 250 images in `101_food_classes_10_percent/test/sashimi`\n",
            "There are 0 directories and 250 images in `101_food_classes_10_percent/test/ceviche`\n",
            "There are 0 directories and 250 images in `101_food_classes_10_percent/test/tuna_tartare`\n",
            "There are 0 directories and 250 images in `101_food_classes_10_percent/test/filet_mignon`\n",
            "There are 0 directories and 250 images in `101_food_classes_10_percent/test/foie_gras`\n",
            "There are 0 directories and 250 images in `101_food_classes_10_percent/test/grilled_cheese_sandwich`\n",
            "There are 0 directories and 250 images in `101_food_classes_10_percent/test/eggs_benedict`\n",
            "There are 0 directories and 250 images in `101_food_classes_10_percent/test/spring_rolls`\n",
            "There are 0 directories and 250 images in `101_food_classes_10_percent/test/baby_back_ribs`\n",
            "There are 0 directories and 250 images in `101_food_classes_10_percent/test/beef_carpaccio`\n",
            "There are 0 directories and 250 images in `101_food_classes_10_percent/test/takoyaki`\n",
            "There are 0 directories and 250 images in `101_food_classes_10_percent/test/mussels`\n",
            "There are 0 directories and 250 images in `101_food_classes_10_percent/test/creme_brulee`\n",
            "There are 0 directories and 250 images in `101_food_classes_10_percent/test/chocolate_cake`\n",
            "There are 0 directories and 250 images in `101_food_classes_10_percent/test/hamburger`\n",
            "There are 0 directories and 250 images in `101_food_classes_10_percent/test/lobster_bisque`\n",
            "There are 0 directories and 250 images in `101_food_classes_10_percent/test/croque_madame`\n",
            "There are 0 directories and 250 images in `101_food_classes_10_percent/test/nachos`\n",
            "There are 0 directories and 250 images in `101_food_classes_10_percent/test/chicken_curry`\n",
            "There are 0 directories and 250 images in `101_food_classes_10_percent/test/sushi`\n",
            "There are 0 directories and 250 images in `101_food_classes_10_percent/test/beef_tartare`\n",
            "There are 0 directories and 250 images in `101_food_classes_10_percent/test/escargots`\n",
            "There are 0 directories and 250 images in `101_food_classes_10_percent/test/club_sandwich`\n",
            "There are 0 directories and 250 images in `101_food_classes_10_percent/test/seaweed_salad`\n",
            "There are 0 directories and 250 images in `101_food_classes_10_percent/test/chocolate_mousse`\n",
            "There are 0 directories and 250 images in `101_food_classes_10_percent/test/oysters`\n",
            "There are 0 directories and 250 images in `101_food_classes_10_percent/test/tacos`\n",
            "There are 0 directories and 250 images in `101_food_classes_10_percent/test/samosa`\n"
          ]
        }
      ]
    },
    {
      "cell_type": "code",
      "source": [
        "train_dir = \"101_food_classes_10_percent/train/\"\n",
        "test_dir = \"101_food_classes_10_percent/test/\""
      ],
      "metadata": {
        "id": "wAqKu0LzPOq8"
      },
      "execution_count": 5,
      "outputs": []
    },
    {
      "cell_type": "code",
      "source": [
        "# Setup data inputs\n",
        "import tensorflow as tf\n",
        "IMG_SIZE = (224, 224)\n",
        "\n",
        "train_data_all_10_percent = tf.keras.preprocessing.image_dataset_from_directory(train_dir,\n",
        "                                                                                label_mode=\"categorical\",\n",
        "                                                                                image_size=IMG_SIZE)\n",
        "\n",
        "test_data = tf.keras.preprocessing.image_dataset_from_directory(test_dir,\n",
        "                                                                label_mode=\"categorical\",\n",
        "                                                                image_size=IMG_SIZE,\n",
        "                                                                shuffle=False)  # don't shuffle test data for prediction analysis"
      ],
      "metadata": {
        "colab": {
          "base_uri": "https://localhost:8080/"
        },
        "id": "gxOstytdPQlD",
        "outputId": "6497a580-5c54-4c98-b072-923f32a463d3"
      },
      "execution_count": 6,
      "outputs": [
        {
          "output_type": "stream",
          "name": "stdout",
          "text": [
            "Found 7575 files belonging to 101 classes.\n",
            "Found 25250 files belonging to 101 classes.\n"
          ]
        }
      ]
    },
    {
      "cell_type": "markdown",
      "source": [
        "## Train a big dog model with transfer learning on 10% of 101 food classes"
      ],
      "metadata": {
        "id": "0Uz3gO3oPSHQ"
      }
    },
    {
      "cell_type": "code",
      "source": [
        "checkpoint_path = \"101_classes_10_percent_data_model_checkpoint\"\n",
        "checkpoint_callback = tf.keras.callbacks.ModelCheckpoint(checkpoint_path,\n",
        "                                                         save_weights_only=True,\n",
        "                                                         monitor=\"val_accuracy\",\n",
        "                                                         save_best_only=True)"
      ],
      "metadata": {
        "id": "oT8jeCVJPTjO"
      },
      "execution_count": 7,
      "outputs": []
    },
    {
      "cell_type": "code",
      "source": [
        "# Create data augmentation layer to incorporate it righ into the model\n",
        "from tensorflow.keras import layers\n",
        "from tensorflow.keras.layers.experimental import preprocessing\n",
        "from tensorflow.keras.models import Sequential\n",
        "\n",
        "# Setup data augmentation\n",
        "data_augmentation = Sequential([\n",
        "    preprocessing.RandomFlip(\"horizontal\"),\n",
        "    preprocessing.RandomRotation(0.2),\n",
        "    preprocessing.RandomHeight(0.2),\n",
        "    preprocessing.RandomWidth(0.2),\n",
        "    preprocessing.RandomZoom(0.2),\n",
        "    # preprocessing.Rescaling(1/255.)   # rescale inputs of images to between 0 and 1, required for models like ResNet50\n",
        "])"
      ],
      "metadata": {
        "id": "pjoGTcRrPVQ4"
      },
      "execution_count": 8,
      "outputs": []
    },
    {
      "cell_type": "code",
      "source": [
        "# Setup the base model and freeze its layer (this will extract features)\n",
        "base_model = tf.keras.applications.EfficientNetB0(include_top=False)\n",
        "base_model.trainable = False\n",
        "\n",
        "# Set up model architecture with trainable top layers\n",
        "inputs = layers.Input(shape=(224, 224, 3), name=\"input_layer\")\n",
        "x = data_augmentation(inputs) # augment images (only happens during training phase)\n",
        "x = base_model(x, training=False) # put the base model in inference mode so weights which need to stay frozen, stay frozen\n",
        "x = layers.GlobalAveragePooling2D(name=\"global_avg_pool_layer\")(x)\n",
        "outputs = layers.Dense(len(train_data_all_10_percent.class_names), activation=\"softmax\", name=\"output_layer\")(x)\n",
        "model = tf.keras.Model(inputs, outputs)"
      ],
      "metadata": {
        "colab": {
          "base_uri": "https://localhost:8080/"
        },
        "id": "-m71XN6zPYRS",
        "outputId": "26f55660-0a95-4404-f522-1b6ec8929b65"
      },
      "execution_count": 9,
      "outputs": [
        {
          "output_type": "stream",
          "name": "stdout",
          "text": [
            "Downloading data from https://storage.googleapis.com/keras-applications/efficientnetb0_notop.h5\n",
            "16705208/16705208 [==============================] - 0s 0us/step\n"
          ]
        }
      ]
    },
    {
      "cell_type": "code",
      "source": [
        "# Get a summary of model we've created\n",
        "model.summary()"
      ],
      "metadata": {
        "colab": {
          "base_uri": "https://localhost:8080/"
        },
        "id": "6yOPF5SVPZhd",
        "outputId": "c8c6c3ce-a62d-4f05-b739-41f1027c1bd6"
      },
      "execution_count": 10,
      "outputs": [
        {
          "output_type": "stream",
          "name": "stdout",
          "text": [
            "Model: \"model\"\n",
            "_________________________________________________________________\n",
            " Layer (type)                Output Shape              Param #   \n",
            "=================================================================\n",
            " input_layer (InputLayer)    [(None, 224, 224, 3)]     0         \n",
            "                                                                 \n",
            " sequential (Sequential)     (None, None, None, 3)     0         \n",
            "                                                                 \n",
            " efficientnetb0 (Functional  (None, None, None, 1280   4049571   \n",
            " )                           )                                   \n",
            "                                                                 \n",
            " global_avg_pool_layer (Glo  (None, 1280)              0         \n",
            " balAveragePooling2D)                                            \n",
            "                                                                 \n",
            " output_layer (Dense)        (None, 101)               129381    \n",
            "                                                                 \n",
            "=================================================================\n",
            "Total params: 4178952 (15.94 MB)\n",
            "Trainable params: 129381 (505.39 KB)\n",
            "Non-trainable params: 4049571 (15.45 MB)\n",
            "_________________________________________________________________\n"
          ]
        }
      ]
    },
    {
      "cell_type": "code",
      "source": [
        "# Compile the model\n",
        "model.compile(loss=\"categorical_crossentropy\",\n",
        "              optimizer=tf.keras.optimizers.Adam(),\n",
        "              metrics=[\"accuracy\"])"
      ],
      "metadata": {
        "id": "y-9DVZ8UPa0K"
      },
      "execution_count": 11,
      "outputs": []
    },
    {
      "cell_type": "code",
      "source": [
        "# Fit the model\n",
        "history_all_classes_10_percent = model.fit(train_data_all_10_percent,\n",
        "                                           epochs=5,\n",
        "                                           steps_per_epoch=len(train_data_all_10_percent),\n",
        "                                           validation_data=test_data,\n",
        "                                           validation_steps=int(0.15 * len(test_data)),\n",
        "                                           # Track model training logs\n",
        "                                           callbacks=[checkpoint_callback])"
      ],
      "metadata": {
        "colab": {
          "base_uri": "https://localhost:8080/"
        },
        "id": "B7-QokeiPbm6",
        "outputId": "80bc761a-562a-42ed-9af6-2542c01d284d"
      },
      "execution_count": 12,
      "outputs": [
        {
          "output_type": "stream",
          "name": "stdout",
          "text": [
            "Epoch 1/5\n",
            "237/237 [==============================] - 119s 433ms/step - loss: 3.3724 - accuracy: 0.2756 - val_loss: 2.5413 - val_accuracy: 0.4203\n",
            "Epoch 2/5\n",
            "237/237 [==============================] - 78s 328ms/step - loss: 2.2005 - accuracy: 0.5005 - val_loss: 2.0748 - val_accuracy: 0.4897\n",
            "Epoch 3/5\n",
            "237/237 [==============================] - 69s 287ms/step - loss: 1.8124 - accuracy: 0.5686 - val_loss: 1.8889 - val_accuracy: 0.5238\n",
            "Epoch 4/5\n",
            "237/237 [==============================] - 65s 274ms/step - loss: 1.6042 - accuracy: 0.6110 - val_loss: 1.8189 - val_accuracy: 0.5281\n",
            "Epoch 5/5\n",
            "237/237 [==============================] - 61s 255ms/step - loss: 1.4451 - accuracy: 0.6498 - val_loss: 1.7572 - val_accuracy: 0.5408\n"
          ]
        }
      ]
    },
    {
      "cell_type": "markdown",
      "source": [
        "## Fine-tuning"
      ],
      "metadata": {
        "id": "ueVLUH8OVSxU"
      }
    },
    {
      "cell_type": "code",
      "source": [
        "# Unfreeze all of the layer in the base model\n",
        "base_model.trainable = True\n",
        "\n",
        "# Freeze every layer except the last 5\n",
        "for layer in base_model.layers[:-5]:\n",
        "  layer.trainable=False"
      ],
      "metadata": {
        "id": "ViSHP-jtVcKN"
      },
      "execution_count": 14,
      "outputs": []
    },
    {
      "cell_type": "code",
      "source": [
        "# recompile model with lower learning (it's typically best practice to lower the larning rate when fine-tuning)\n",
        "model.compile(loss=\"categorical_crossentropy\",\n",
        "              optimizer=tf.keras.optimizers.Adam(learning_rate=0.0001),\n",
        "              metrics=[\"accuracy\"])"
      ],
      "metadata": {
        "id": "he4GBGBjVvtt"
      },
      "execution_count": 15,
      "outputs": []
    },
    {
      "cell_type": "code",
      "source": [
        "# What layers in the model are trainable?\n",
        "for layer in model.layers:\n",
        "  print(layer.name, layer.trainable)"
      ],
      "metadata": {
        "colab": {
          "base_uri": "https://localhost:8080/"
        },
        "id": "TfqRHqWLWHqK",
        "outputId": "2e89379a-912f-4521-d499-1dc36349085a"
      },
      "execution_count": 16,
      "outputs": [
        {
          "output_type": "stream",
          "name": "stdout",
          "text": [
            "input_layer True\n",
            "sequential True\n",
            "efficientnetb0 True\n",
            "global_avg_pool_layer True\n",
            "output_layer True\n"
          ]
        }
      ]
    },
    {
      "cell_type": "code",
      "source": [
        "# Check which layers are trainable in our base model\n",
        "for layer_number, layer in enumerate(model.layers[2].layers):\n",
        "  print(layer_number, layer.name, layer.trainable)"
      ],
      "metadata": {
        "colab": {
          "base_uri": "https://localhost:8080/"
        },
        "id": "rAB8PKFBWQm7",
        "outputId": "0b8ffbf3-67f4-4ee3-e960-0e42a7b773b8"
      },
      "execution_count": 17,
      "outputs": [
        {
          "output_type": "stream",
          "name": "stdout",
          "text": [
            "0 input_1 False\n",
            "1 rescaling False\n",
            "2 normalization False\n",
            "3 rescaling_1 False\n",
            "4 stem_conv_pad False\n",
            "5 stem_conv False\n",
            "6 stem_bn False\n",
            "7 stem_activation False\n",
            "8 block1a_dwconv False\n",
            "9 block1a_bn False\n",
            "10 block1a_activation False\n",
            "11 block1a_se_squeeze False\n",
            "12 block1a_se_reshape False\n",
            "13 block1a_se_reduce False\n",
            "14 block1a_se_expand False\n",
            "15 block1a_se_excite False\n",
            "16 block1a_project_conv False\n",
            "17 block1a_project_bn False\n",
            "18 block2a_expand_conv False\n",
            "19 block2a_expand_bn False\n",
            "20 block2a_expand_activation False\n",
            "21 block2a_dwconv_pad False\n",
            "22 block2a_dwconv False\n",
            "23 block2a_bn False\n",
            "24 block2a_activation False\n",
            "25 block2a_se_squeeze False\n",
            "26 block2a_se_reshape False\n",
            "27 block2a_se_reduce False\n",
            "28 block2a_se_expand False\n",
            "29 block2a_se_excite False\n",
            "30 block2a_project_conv False\n",
            "31 block2a_project_bn False\n",
            "32 block2b_expand_conv False\n",
            "33 block2b_expand_bn False\n",
            "34 block2b_expand_activation False\n",
            "35 block2b_dwconv False\n",
            "36 block2b_bn False\n",
            "37 block2b_activation False\n",
            "38 block2b_se_squeeze False\n",
            "39 block2b_se_reshape False\n",
            "40 block2b_se_reduce False\n",
            "41 block2b_se_expand False\n",
            "42 block2b_se_excite False\n",
            "43 block2b_project_conv False\n",
            "44 block2b_project_bn False\n",
            "45 block2b_drop False\n",
            "46 block2b_add False\n",
            "47 block3a_expand_conv False\n",
            "48 block3a_expand_bn False\n",
            "49 block3a_expand_activation False\n",
            "50 block3a_dwconv_pad False\n",
            "51 block3a_dwconv False\n",
            "52 block3a_bn False\n",
            "53 block3a_activation False\n",
            "54 block3a_se_squeeze False\n",
            "55 block3a_se_reshape False\n",
            "56 block3a_se_reduce False\n",
            "57 block3a_se_expand False\n",
            "58 block3a_se_excite False\n",
            "59 block3a_project_conv False\n",
            "60 block3a_project_bn False\n",
            "61 block3b_expand_conv False\n",
            "62 block3b_expand_bn False\n",
            "63 block3b_expand_activation False\n",
            "64 block3b_dwconv False\n",
            "65 block3b_bn False\n",
            "66 block3b_activation False\n",
            "67 block3b_se_squeeze False\n",
            "68 block3b_se_reshape False\n",
            "69 block3b_se_reduce False\n",
            "70 block3b_se_expand False\n",
            "71 block3b_se_excite False\n",
            "72 block3b_project_conv False\n",
            "73 block3b_project_bn False\n",
            "74 block3b_drop False\n",
            "75 block3b_add False\n",
            "76 block4a_expand_conv False\n",
            "77 block4a_expand_bn False\n",
            "78 block4a_expand_activation False\n",
            "79 block4a_dwconv_pad False\n",
            "80 block4a_dwconv False\n",
            "81 block4a_bn False\n",
            "82 block4a_activation False\n",
            "83 block4a_se_squeeze False\n",
            "84 block4a_se_reshape False\n",
            "85 block4a_se_reduce False\n",
            "86 block4a_se_expand False\n",
            "87 block4a_se_excite False\n",
            "88 block4a_project_conv False\n",
            "89 block4a_project_bn False\n",
            "90 block4b_expand_conv False\n",
            "91 block4b_expand_bn False\n",
            "92 block4b_expand_activation False\n",
            "93 block4b_dwconv False\n",
            "94 block4b_bn False\n",
            "95 block4b_activation False\n",
            "96 block4b_se_squeeze False\n",
            "97 block4b_se_reshape False\n",
            "98 block4b_se_reduce False\n",
            "99 block4b_se_expand False\n",
            "100 block4b_se_excite False\n",
            "101 block4b_project_conv False\n",
            "102 block4b_project_bn False\n",
            "103 block4b_drop False\n",
            "104 block4b_add False\n",
            "105 block4c_expand_conv False\n",
            "106 block4c_expand_bn False\n",
            "107 block4c_expand_activation False\n",
            "108 block4c_dwconv False\n",
            "109 block4c_bn False\n",
            "110 block4c_activation False\n",
            "111 block4c_se_squeeze False\n",
            "112 block4c_se_reshape False\n",
            "113 block4c_se_reduce False\n",
            "114 block4c_se_expand False\n",
            "115 block4c_se_excite False\n",
            "116 block4c_project_conv False\n",
            "117 block4c_project_bn False\n",
            "118 block4c_drop False\n",
            "119 block4c_add False\n",
            "120 block5a_expand_conv False\n",
            "121 block5a_expand_bn False\n",
            "122 block5a_expand_activation False\n",
            "123 block5a_dwconv False\n",
            "124 block5a_bn False\n",
            "125 block5a_activation False\n",
            "126 block5a_se_squeeze False\n",
            "127 block5a_se_reshape False\n",
            "128 block5a_se_reduce False\n",
            "129 block5a_se_expand False\n",
            "130 block5a_se_excite False\n",
            "131 block5a_project_conv False\n",
            "132 block5a_project_bn False\n",
            "133 block5b_expand_conv False\n",
            "134 block5b_expand_bn False\n",
            "135 block5b_expand_activation False\n",
            "136 block5b_dwconv False\n",
            "137 block5b_bn False\n",
            "138 block5b_activation False\n",
            "139 block5b_se_squeeze False\n",
            "140 block5b_se_reshape False\n",
            "141 block5b_se_reduce False\n",
            "142 block5b_se_expand False\n",
            "143 block5b_se_excite False\n",
            "144 block5b_project_conv False\n",
            "145 block5b_project_bn False\n",
            "146 block5b_drop False\n",
            "147 block5b_add False\n",
            "148 block5c_expand_conv False\n",
            "149 block5c_expand_bn False\n",
            "150 block5c_expand_activation False\n",
            "151 block5c_dwconv False\n",
            "152 block5c_bn False\n",
            "153 block5c_activation False\n",
            "154 block5c_se_squeeze False\n",
            "155 block5c_se_reshape False\n",
            "156 block5c_se_reduce False\n",
            "157 block5c_se_expand False\n",
            "158 block5c_se_excite False\n",
            "159 block5c_project_conv False\n",
            "160 block5c_project_bn False\n",
            "161 block5c_drop False\n",
            "162 block5c_add False\n",
            "163 block6a_expand_conv False\n",
            "164 block6a_expand_bn False\n",
            "165 block6a_expand_activation False\n",
            "166 block6a_dwconv_pad False\n",
            "167 block6a_dwconv False\n",
            "168 block6a_bn False\n",
            "169 block6a_activation False\n",
            "170 block6a_se_squeeze False\n",
            "171 block6a_se_reshape False\n",
            "172 block6a_se_reduce False\n",
            "173 block6a_se_expand False\n",
            "174 block6a_se_excite False\n",
            "175 block6a_project_conv False\n",
            "176 block6a_project_bn False\n",
            "177 block6b_expand_conv False\n",
            "178 block6b_expand_bn False\n",
            "179 block6b_expand_activation False\n",
            "180 block6b_dwconv False\n",
            "181 block6b_bn False\n",
            "182 block6b_activation False\n",
            "183 block6b_se_squeeze False\n",
            "184 block6b_se_reshape False\n",
            "185 block6b_se_reduce False\n",
            "186 block6b_se_expand False\n",
            "187 block6b_se_excite False\n",
            "188 block6b_project_conv False\n",
            "189 block6b_project_bn False\n",
            "190 block6b_drop False\n",
            "191 block6b_add False\n",
            "192 block6c_expand_conv False\n",
            "193 block6c_expand_bn False\n",
            "194 block6c_expand_activation False\n",
            "195 block6c_dwconv False\n",
            "196 block6c_bn False\n",
            "197 block6c_activation False\n",
            "198 block6c_se_squeeze False\n",
            "199 block6c_se_reshape False\n",
            "200 block6c_se_reduce False\n",
            "201 block6c_se_expand False\n",
            "202 block6c_se_excite False\n",
            "203 block6c_project_conv False\n",
            "204 block6c_project_bn False\n",
            "205 block6c_drop False\n",
            "206 block6c_add False\n",
            "207 block6d_expand_conv False\n",
            "208 block6d_expand_bn False\n",
            "209 block6d_expand_activation False\n",
            "210 block6d_dwconv False\n",
            "211 block6d_bn False\n",
            "212 block6d_activation False\n",
            "213 block6d_se_squeeze False\n",
            "214 block6d_se_reshape False\n",
            "215 block6d_se_reduce False\n",
            "216 block6d_se_expand False\n",
            "217 block6d_se_excite False\n",
            "218 block6d_project_conv False\n",
            "219 block6d_project_bn False\n",
            "220 block6d_drop False\n",
            "221 block6d_add False\n",
            "222 block7a_expand_conv False\n",
            "223 block7a_expand_bn False\n",
            "224 block7a_expand_activation False\n",
            "225 block7a_dwconv False\n",
            "226 block7a_bn False\n",
            "227 block7a_activation False\n",
            "228 block7a_se_squeeze False\n",
            "229 block7a_se_reshape False\n",
            "230 block7a_se_reduce False\n",
            "231 block7a_se_expand False\n",
            "232 block7a_se_excite False\n",
            "233 block7a_project_conv True\n",
            "234 block7a_project_bn True\n",
            "235 top_conv True\n",
            "236 top_bn True\n",
            "237 top_activation True\n"
          ]
        }
      ]
    },
    {
      "cell_type": "code",
      "source": [
        "# Fine tune for 5 more epochs\n",
        "fine_tune_epochs = 10    # model has already done 5 epochs (feature extraction), this is the total number of epochs we're after (5 + 5 = 10)\n",
        "\n",
        "# Refit the model (same as model except with more trainable layers)\n",
        "history_all_classes_10_percent_fine_tune= model.fit(train_data_all_10_percent,\n",
        "                                            epochs=fine_tune_epochs,\n",
        "                                            validation_data=test_data,\n",
        "                                            validation_steps=int(0.15 * len(test_data)),\n",
        "                                            initial_epoch=history_all_classes_10_percent.epoch[-1],  # start training from previous last epoch\n",
        "                                            callbacks=[checkpoint_callback] )"
      ],
      "metadata": {
        "colab": {
          "base_uri": "https://localhost:8080/"
        },
        "id": "HGrRm37eWTC1",
        "outputId": "016da459-1827-44f9-9d4b-560ff301583e"
      },
      "execution_count": 18,
      "outputs": [
        {
          "output_type": "stream",
          "name": "stdout",
          "text": [
            "Epoch 5/10\n",
            "237/237 [==============================] - 69s 251ms/step - loss: 1.2137 - accuracy: 0.6745 - val_loss: 1.6984 - val_accuracy: 0.5490\n",
            "Epoch 6/10\n",
            "237/237 [==============================] - 53s 222ms/step - loss: 1.1006 - accuracy: 0.7064 - val_loss: 1.6854 - val_accuracy: 0.5548\n",
            "Epoch 7/10\n",
            "237/237 [==============================] - 49s 205ms/step - loss: 1.0197 - accuracy: 0.7266 - val_loss: 1.6929 - val_accuracy: 0.5508\n",
            "Epoch 8/10\n",
            "237/237 [==============================] - 46s 193ms/step - loss: 0.9556 - accuracy: 0.7455 - val_loss: 1.7188 - val_accuracy: 0.5482\n",
            "Epoch 9/10\n",
            "237/237 [==============================] - 47s 197ms/step - loss: 0.8915 - accuracy: 0.7592 - val_loss: 1.6875 - val_accuracy: 0.5540\n",
            "Epoch 10/10\n",
            "237/237 [==============================] - 46s 189ms/step - loss: 0.8277 - accuracy: 0.7777 - val_loss: 1.7214 - val_accuracy: 0.5469\n"
          ]
        }
      ]
    }
  ]
}