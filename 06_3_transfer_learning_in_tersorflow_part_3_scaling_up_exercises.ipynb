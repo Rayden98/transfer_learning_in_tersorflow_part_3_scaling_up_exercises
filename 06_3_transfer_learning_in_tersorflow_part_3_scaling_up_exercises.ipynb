{
  "nbformat": 4,
  "nbformat_minor": 0,
  "metadata": {
    "colab": {
      "provenance": [],
      "gpuType": "T4"
    },
    "kernelspec": {
      "name": "python3",
      "display_name": "Python 3"
    },
    "language_info": {
      "name": "python"
    },
    "accelerator": "GPU"
  },
  "cells": [
    {
      "cell_type": "code",
      "execution_count": null,
      "metadata": {
        "id": "J4P9CHn3Tp_6"
      },
      "outputs": [],
      "source": [
        "# Check to see if we're using a GPU\n",
        "!nvidia-smi"
      ]
    },
    {
      "cell_type": "markdown",
      "source": [
        "##101 food classes: working with less data\n",
        "Our goal is to beath the original Food101 paper with 10% of the training data."
      ],
      "metadata": {
        "id": "YxkNZf7wT2on"
      }
    },
    {
      "cell_type": "code",
      "source": [
        "!wget https://storage.googleapis.com/ztm_tf_course/food_vision/101_food_classes_10_percent.zip"
      ],
      "metadata": {
        "id": "aQygZqXiT7Hl",
        "colab": {
          "base_uri": "https://localhost:8080/"
        },
        "outputId": "17a5fd52-c82e-4f72-aeb6-30bfed268051"
      },
      "execution_count": 38,
      "outputs": [
        {
          "output_type": "stream",
          "name": "stdout",
          "text": [
            "--2023-10-14 00:18:14--  https://storage.googleapis.com/ztm_tf_course/food_vision/101_food_classes_10_percent.zip\n",
            "Resolving storage.googleapis.com (storage.googleapis.com)... 74.125.130.207, 74.125.68.207, 64.233.170.207, ...\n",
            "Connecting to storage.googleapis.com (storage.googleapis.com)|74.125.130.207|:443... connected.\n",
            "HTTP request sent, awaiting response... 200 OK\n",
            "Length: 1625420029 (1.5G) [application/zip]\n",
            "Saving to: ‘101_food_classes_10_percent.zip.1’\n",
            "\n",
            "101_food_classes_10   1%[                    ]  24.72M  11.3MB/s               ^C\n"
          ]
        }
      ]
    },
    {
      "cell_type": "code",
      "source": [
        "import zipfile\n",
        "zip_ref = zipfile.ZipFile(\"101_food_classes_10_percent.zip\")\n",
        "zip_ref.extractall()\n",
        "zip_ref.close()"
      ],
      "metadata": {
        "id": "phRKpUHPT7_Q"
      },
      "execution_count": 2,
      "outputs": []
    },
    {
      "cell_type": "code",
      "source": [
        "# How many images in each folder?\n",
        "import os\n",
        "\n",
        "# Walk through -1 percent data directory and list number of files\n",
        "for dirpath, dirnames, filenames in os.walk(\"101_food_classes_10_percent\"):\n",
        "  print(f\"There are {len(dirnames)} directories and {len(filenames)} images in `{dirpath}`\")"
      ],
      "metadata": {
        "id": "bpGVE9OgT9LS",
        "colab": {
          "base_uri": "https://localhost:8080/"
        },
        "outputId": "644b646e-3de7-49fe-adfc-09a31c3b34c1"
      },
      "execution_count": 3,
      "outputs": [
        {
          "output_type": "stream",
          "name": "stdout",
          "text": [
            "There are 2 directories and 0 images in `101_food_classes_10_percent`\n",
            "There are 101 directories and 0 images in `101_food_classes_10_percent/train`\n",
            "There are 0 directories and 75 images in `101_food_classes_10_percent/train/french_toast`\n",
            "There are 0 directories and 75 images in `101_food_classes_10_percent/train/frozen_yogurt`\n",
            "There are 0 directories and 75 images in `101_food_classes_10_percent/train/baklava`\n",
            "There are 0 directories and 75 images in `101_food_classes_10_percent/train/donuts`\n",
            "There are 0 directories and 75 images in `101_food_classes_10_percent/train/french_onion_soup`\n",
            "There are 0 directories and 75 images in `101_food_classes_10_percent/train/bruschetta`\n",
            "There are 0 directories and 75 images in `101_food_classes_10_percent/train/ramen`\n",
            "There are 0 directories and 75 images in `101_food_classes_10_percent/train/cheesecake`\n",
            "There are 0 directories and 75 images in `101_food_classes_10_percent/train/hot_dog`\n",
            "There are 0 directories and 75 images in `101_food_classes_10_percent/train/prime_rib`\n",
            "There are 0 directories and 75 images in `101_food_classes_10_percent/train/garlic_bread`\n",
            "There are 0 directories and 75 images in `101_food_classes_10_percent/train/breakfast_burrito`\n",
            "There are 0 directories and 75 images in `101_food_classes_10_percent/train/pulled_pork_sandwich`\n",
            "There are 0 directories and 75 images in `101_food_classes_10_percent/train/hot_and_sour_soup`\n",
            "There are 0 directories and 75 images in `101_food_classes_10_percent/train/greek_salad`\n",
            "There are 0 directories and 75 images in `101_food_classes_10_percent/train/pad_thai`\n",
            "There are 0 directories and 75 images in `101_food_classes_10_percent/train/onion_rings`\n",
            "There are 0 directories and 75 images in `101_food_classes_10_percent/train/ice_cream`\n",
            "There are 0 directories and 75 images in `101_food_classes_10_percent/train/miso_soup`\n",
            "There are 0 directories and 75 images in `101_food_classes_10_percent/train/pho`\n",
            "There are 0 directories and 75 images in `101_food_classes_10_percent/train/omelette`\n",
            "There are 0 directories and 75 images in `101_food_classes_10_percent/train/churros`\n",
            "There are 0 directories and 75 images in `101_food_classes_10_percent/train/pizza`\n",
            "There are 0 directories and 75 images in `101_food_classes_10_percent/train/scallops`\n",
            "There are 0 directories and 75 images in `101_food_classes_10_percent/train/fish_and_chips`\n",
            "There are 0 directories and 75 images in `101_food_classes_10_percent/train/beignets`\n",
            "There are 0 directories and 75 images in `101_food_classes_10_percent/train/shrimp_and_grits`\n",
            "There are 0 directories and 75 images in `101_food_classes_10_percent/train/chicken_wings`\n",
            "There are 0 directories and 75 images in `101_food_classes_10_percent/train/cup_cakes`\n",
            "There are 0 directories and 75 images in `101_food_classes_10_percent/train/cheese_plate`\n",
            "There are 0 directories and 75 images in `101_food_classes_10_percent/train/falafel`\n",
            "There are 0 directories and 75 images in `101_food_classes_10_percent/train/caprese_salad`\n",
            "There are 0 directories and 75 images in `101_food_classes_10_percent/train/spaghetti_carbonara`\n",
            "There are 0 directories and 75 images in `101_food_classes_10_percent/train/spaghetti_bolognese`\n",
            "There are 0 directories and 75 images in `101_food_classes_10_percent/train/deviled_eggs`\n",
            "There are 0 directories and 75 images in `101_food_classes_10_percent/train/grilled_salmon`\n",
            "There are 0 directories and 75 images in `101_food_classes_10_percent/train/hummus`\n",
            "There are 0 directories and 75 images in `101_food_classes_10_percent/train/fried_calamari`\n",
            "There are 0 directories and 75 images in `101_food_classes_10_percent/train/lasagna`\n",
            "There are 0 directories and 75 images in `101_food_classes_10_percent/train/gyoza`\n",
            "There are 0 directories and 75 images in `101_food_classes_10_percent/train/dumplings`\n",
            "There are 0 directories and 75 images in `101_food_classes_10_percent/train/ravioli`\n",
            "There are 0 directories and 75 images in `101_food_classes_10_percent/train/cannoli`\n",
            "There are 0 directories and 75 images in `101_food_classes_10_percent/train/risotto`\n",
            "There are 0 directories and 75 images in `101_food_classes_10_percent/train/guacamole`\n",
            "There are 0 directories and 75 images in `101_food_classes_10_percent/train/panna_cotta`\n",
            "There are 0 directories and 75 images in `101_food_classes_10_percent/train/poutine`\n",
            "There are 0 directories and 75 images in `101_food_classes_10_percent/train/macarons`\n",
            "There are 0 directories and 75 images in `101_food_classes_10_percent/train/caesar_salad`\n",
            "There are 0 directories and 75 images in `101_food_classes_10_percent/train/apple_pie`\n",
            "There are 0 directories and 75 images in `101_food_classes_10_percent/train/chicken_quesadilla`\n",
            "There are 0 directories and 75 images in `101_food_classes_10_percent/train/bibimbap`\n",
            "There are 0 directories and 75 images in `101_food_classes_10_percent/train/carrot_cake`\n",
            "There are 0 directories and 75 images in `101_food_classes_10_percent/train/crab_cakes`\n",
            "There are 0 directories and 75 images in `101_food_classes_10_percent/train/peking_duck`\n",
            "There are 0 directories and 75 images in `101_food_classes_10_percent/train/edamame`\n",
            "There are 0 directories and 75 images in `101_food_classes_10_percent/train/bread_pudding`\n",
            "There are 0 directories and 75 images in `101_food_classes_10_percent/train/beet_salad`\n",
            "There are 0 directories and 75 images in `101_food_classes_10_percent/train/fried_rice`\n",
            "There are 0 directories and 75 images in `101_food_classes_10_percent/train/red_velvet_cake`\n",
            "There are 0 directories and 75 images in `101_food_classes_10_percent/train/clam_chowder`\n",
            "There are 0 directories and 75 images in `101_food_classes_10_percent/train/french_fries`\n",
            "There are 0 directories and 75 images in `101_food_classes_10_percent/train/waffles`\n",
            "There are 0 directories and 75 images in `101_food_classes_10_percent/train/steak`\n",
            "There are 0 directories and 75 images in `101_food_classes_10_percent/train/pancakes`\n",
            "There are 0 directories and 75 images in `101_food_classes_10_percent/train/tiramisu`\n",
            "There are 0 directories and 75 images in `101_food_classes_10_percent/train/gnocchi`\n",
            "There are 0 directories and 75 images in `101_food_classes_10_percent/train/paella`\n",
            "There are 0 directories and 75 images in `101_food_classes_10_percent/train/huevos_rancheros`\n",
            "There are 0 directories and 75 images in `101_food_classes_10_percent/train/strawberry_shortcake`\n",
            "There are 0 directories and 75 images in `101_food_classes_10_percent/train/lobster_roll_sandwich`\n",
            "There are 0 directories and 75 images in `101_food_classes_10_percent/train/pork_chop`\n",
            "There are 0 directories and 75 images in `101_food_classes_10_percent/train/macaroni_and_cheese`\n",
            "There are 0 directories and 75 images in `101_food_classes_10_percent/train/sashimi`\n",
            "There are 0 directories and 75 images in `101_food_classes_10_percent/train/ceviche`\n",
            "There are 0 directories and 75 images in `101_food_classes_10_percent/train/tuna_tartare`\n",
            "There are 0 directories and 75 images in `101_food_classes_10_percent/train/filet_mignon`\n",
            "There are 0 directories and 75 images in `101_food_classes_10_percent/train/foie_gras`\n",
            "There are 0 directories and 75 images in `101_food_classes_10_percent/train/grilled_cheese_sandwich`\n",
            "There are 0 directories and 75 images in `101_food_classes_10_percent/train/eggs_benedict`\n",
            "There are 0 directories and 75 images in `101_food_classes_10_percent/train/spring_rolls`\n",
            "There are 0 directories and 75 images in `101_food_classes_10_percent/train/baby_back_ribs`\n",
            "There are 0 directories and 75 images in `101_food_classes_10_percent/train/beef_carpaccio`\n",
            "There are 0 directories and 75 images in `101_food_classes_10_percent/train/takoyaki`\n",
            "There are 0 directories and 75 images in `101_food_classes_10_percent/train/mussels`\n",
            "There are 0 directories and 75 images in `101_food_classes_10_percent/train/creme_brulee`\n",
            "There are 0 directories and 75 images in `101_food_classes_10_percent/train/chocolate_cake`\n",
            "There are 0 directories and 75 images in `101_food_classes_10_percent/train/hamburger`\n",
            "There are 0 directories and 75 images in `101_food_classes_10_percent/train/lobster_bisque`\n",
            "There are 0 directories and 75 images in `101_food_classes_10_percent/train/croque_madame`\n",
            "There are 0 directories and 75 images in `101_food_classes_10_percent/train/nachos`\n",
            "There are 0 directories and 75 images in `101_food_classes_10_percent/train/chicken_curry`\n",
            "There are 0 directories and 75 images in `101_food_classes_10_percent/train/sushi`\n",
            "There are 0 directories and 75 images in `101_food_classes_10_percent/train/beef_tartare`\n",
            "There are 0 directories and 75 images in `101_food_classes_10_percent/train/escargots`\n",
            "There are 0 directories and 75 images in `101_food_classes_10_percent/train/club_sandwich`\n",
            "There are 0 directories and 75 images in `101_food_classes_10_percent/train/seaweed_salad`\n",
            "There are 0 directories and 75 images in `101_food_classes_10_percent/train/chocolate_mousse`\n",
            "There are 0 directories and 75 images in `101_food_classes_10_percent/train/oysters`\n",
            "There are 0 directories and 75 images in `101_food_classes_10_percent/train/tacos`\n",
            "There are 0 directories and 75 images in `101_food_classes_10_percent/train/samosa`\n",
            "There are 101 directories and 0 images in `101_food_classes_10_percent/test`\n",
            "There are 0 directories and 250 images in `101_food_classes_10_percent/test/french_toast`\n",
            "There are 0 directories and 250 images in `101_food_classes_10_percent/test/frozen_yogurt`\n",
            "There are 0 directories and 250 images in `101_food_classes_10_percent/test/baklava`\n",
            "There are 0 directories and 250 images in `101_food_classes_10_percent/test/donuts`\n",
            "There are 0 directories and 250 images in `101_food_classes_10_percent/test/french_onion_soup`\n",
            "There are 0 directories and 250 images in `101_food_classes_10_percent/test/bruschetta`\n",
            "There are 0 directories and 250 images in `101_food_classes_10_percent/test/ramen`\n",
            "There are 0 directories and 250 images in `101_food_classes_10_percent/test/cheesecake`\n",
            "There are 0 directories and 250 images in `101_food_classes_10_percent/test/hot_dog`\n",
            "There are 0 directories and 250 images in `101_food_classes_10_percent/test/prime_rib`\n",
            "There are 0 directories and 250 images in `101_food_classes_10_percent/test/garlic_bread`\n",
            "There are 0 directories and 250 images in `101_food_classes_10_percent/test/breakfast_burrito`\n",
            "There are 0 directories and 250 images in `101_food_classes_10_percent/test/pulled_pork_sandwich`\n",
            "There are 0 directories and 250 images in `101_food_classes_10_percent/test/hot_and_sour_soup`\n",
            "There are 0 directories and 250 images in `101_food_classes_10_percent/test/greek_salad`\n",
            "There are 0 directories and 250 images in `101_food_classes_10_percent/test/pad_thai`\n",
            "There are 0 directories and 250 images in `101_food_classes_10_percent/test/onion_rings`\n",
            "There are 0 directories and 250 images in `101_food_classes_10_percent/test/ice_cream`\n",
            "There are 0 directories and 250 images in `101_food_classes_10_percent/test/miso_soup`\n",
            "There are 0 directories and 250 images in `101_food_classes_10_percent/test/pho`\n",
            "There are 0 directories and 250 images in `101_food_classes_10_percent/test/omelette`\n",
            "There are 0 directories and 250 images in `101_food_classes_10_percent/test/churros`\n",
            "There are 0 directories and 250 images in `101_food_classes_10_percent/test/pizza`\n",
            "There are 0 directories and 250 images in `101_food_classes_10_percent/test/scallops`\n",
            "There are 0 directories and 250 images in `101_food_classes_10_percent/test/fish_and_chips`\n",
            "There are 0 directories and 250 images in `101_food_classes_10_percent/test/beignets`\n",
            "There are 0 directories and 250 images in `101_food_classes_10_percent/test/shrimp_and_grits`\n",
            "There are 0 directories and 250 images in `101_food_classes_10_percent/test/chicken_wings`\n",
            "There are 0 directories and 250 images in `101_food_classes_10_percent/test/cup_cakes`\n",
            "There are 0 directories and 250 images in `101_food_classes_10_percent/test/cheese_plate`\n",
            "There are 0 directories and 250 images in `101_food_classes_10_percent/test/falafel`\n",
            "There are 0 directories and 250 images in `101_food_classes_10_percent/test/caprese_salad`\n",
            "There are 0 directories and 250 images in `101_food_classes_10_percent/test/spaghetti_carbonara`\n",
            "There are 0 directories and 250 images in `101_food_classes_10_percent/test/spaghetti_bolognese`\n",
            "There are 0 directories and 250 images in `101_food_classes_10_percent/test/deviled_eggs`\n",
            "There are 0 directories and 250 images in `101_food_classes_10_percent/test/grilled_salmon`\n",
            "There are 0 directories and 250 images in `101_food_classes_10_percent/test/hummus`\n",
            "There are 0 directories and 250 images in `101_food_classes_10_percent/test/fried_calamari`\n",
            "There are 0 directories and 250 images in `101_food_classes_10_percent/test/lasagna`\n",
            "There are 0 directories and 250 images in `101_food_classes_10_percent/test/gyoza`\n",
            "There are 0 directories and 250 images in `101_food_classes_10_percent/test/dumplings`\n",
            "There are 0 directories and 250 images in `101_food_classes_10_percent/test/ravioli`\n",
            "There are 0 directories and 250 images in `101_food_classes_10_percent/test/cannoli`\n",
            "There are 0 directories and 250 images in `101_food_classes_10_percent/test/risotto`\n",
            "There are 0 directories and 250 images in `101_food_classes_10_percent/test/guacamole`\n",
            "There are 0 directories and 250 images in `101_food_classes_10_percent/test/panna_cotta`\n",
            "There are 0 directories and 250 images in `101_food_classes_10_percent/test/poutine`\n",
            "There are 0 directories and 250 images in `101_food_classes_10_percent/test/macarons`\n",
            "There are 0 directories and 250 images in `101_food_classes_10_percent/test/caesar_salad`\n",
            "There are 0 directories and 250 images in `101_food_classes_10_percent/test/apple_pie`\n",
            "There are 0 directories and 250 images in `101_food_classes_10_percent/test/chicken_quesadilla`\n",
            "There are 0 directories and 250 images in `101_food_classes_10_percent/test/bibimbap`\n",
            "There are 0 directories and 250 images in `101_food_classes_10_percent/test/carrot_cake`\n",
            "There are 0 directories and 250 images in `101_food_classes_10_percent/test/crab_cakes`\n",
            "There are 0 directories and 250 images in `101_food_classes_10_percent/test/peking_duck`\n",
            "There are 0 directories and 250 images in `101_food_classes_10_percent/test/edamame`\n",
            "There are 0 directories and 250 images in `101_food_classes_10_percent/test/bread_pudding`\n",
            "There are 0 directories and 250 images in `101_food_classes_10_percent/test/beet_salad`\n",
            "There are 0 directories and 250 images in `101_food_classes_10_percent/test/fried_rice`\n",
            "There are 0 directories and 250 images in `101_food_classes_10_percent/test/red_velvet_cake`\n",
            "There are 0 directories and 250 images in `101_food_classes_10_percent/test/clam_chowder`\n",
            "There are 0 directories and 250 images in `101_food_classes_10_percent/test/french_fries`\n",
            "There are 0 directories and 250 images in `101_food_classes_10_percent/test/waffles`\n",
            "There are 0 directories and 250 images in `101_food_classes_10_percent/test/steak`\n",
            "There are 0 directories and 250 images in `101_food_classes_10_percent/test/pancakes`\n",
            "There are 0 directories and 250 images in `101_food_classes_10_percent/test/tiramisu`\n",
            "There are 0 directories and 250 images in `101_food_classes_10_percent/test/gnocchi`\n",
            "There are 0 directories and 250 images in `101_food_classes_10_percent/test/paella`\n",
            "There are 0 directories and 250 images in `101_food_classes_10_percent/test/huevos_rancheros`\n",
            "There are 0 directories and 250 images in `101_food_classes_10_percent/test/strawberry_shortcake`\n",
            "There are 0 directories and 250 images in `101_food_classes_10_percent/test/lobster_roll_sandwich`\n",
            "There are 0 directories and 250 images in `101_food_classes_10_percent/test/pork_chop`\n",
            "There are 0 directories and 250 images in `101_food_classes_10_percent/test/macaroni_and_cheese`\n",
            "There are 0 directories and 250 images in `101_food_classes_10_percent/test/sashimi`\n",
            "There are 0 directories and 250 images in `101_food_classes_10_percent/test/ceviche`\n",
            "There are 0 directories and 250 images in `101_food_classes_10_percent/test/tuna_tartare`\n",
            "There are 0 directories and 250 images in `101_food_classes_10_percent/test/filet_mignon`\n",
            "There are 0 directories and 250 images in `101_food_classes_10_percent/test/foie_gras`\n",
            "There are 0 directories and 250 images in `101_food_classes_10_percent/test/grilled_cheese_sandwich`\n",
            "There are 0 directories and 250 images in `101_food_classes_10_percent/test/eggs_benedict`\n",
            "There are 0 directories and 250 images in `101_food_classes_10_percent/test/spring_rolls`\n",
            "There are 0 directories and 250 images in `101_food_classes_10_percent/test/baby_back_ribs`\n",
            "There are 0 directories and 250 images in `101_food_classes_10_percent/test/beef_carpaccio`\n",
            "There are 0 directories and 250 images in `101_food_classes_10_percent/test/takoyaki`\n",
            "There are 0 directories and 250 images in `101_food_classes_10_percent/test/mussels`\n",
            "There are 0 directories and 250 images in `101_food_classes_10_percent/test/creme_brulee`\n",
            "There are 0 directories and 250 images in `101_food_classes_10_percent/test/chocolate_cake`\n",
            "There are 0 directories and 250 images in `101_food_classes_10_percent/test/hamburger`\n",
            "There are 0 directories and 250 images in `101_food_classes_10_percent/test/lobster_bisque`\n",
            "There are 0 directories and 250 images in `101_food_classes_10_percent/test/croque_madame`\n",
            "There are 0 directories and 250 images in `101_food_classes_10_percent/test/nachos`\n",
            "There are 0 directories and 250 images in `101_food_classes_10_percent/test/chicken_curry`\n",
            "There are 0 directories and 250 images in `101_food_classes_10_percent/test/sushi`\n",
            "There are 0 directories and 250 images in `101_food_classes_10_percent/test/beef_tartare`\n",
            "There are 0 directories and 250 images in `101_food_classes_10_percent/test/escargots`\n",
            "There are 0 directories and 250 images in `101_food_classes_10_percent/test/club_sandwich`\n",
            "There are 0 directories and 250 images in `101_food_classes_10_percent/test/seaweed_salad`\n",
            "There are 0 directories and 250 images in `101_food_classes_10_percent/test/chocolate_mousse`\n",
            "There are 0 directories and 250 images in `101_food_classes_10_percent/test/oysters`\n",
            "There are 0 directories and 250 images in `101_food_classes_10_percent/test/tacos`\n",
            "There are 0 directories and 250 images in `101_food_classes_10_percent/test/samosa`\n"
          ]
        }
      ]
    },
    {
      "cell_type": "code",
      "source": [
        "train_dir = \"101_food_classes_10_percent/train/\"\n",
        "test_dir = \"101_food_classes_10_percent/test/\""
      ],
      "metadata": {
        "id": "r7SFXNwXUAz-"
      },
      "execution_count": 39,
      "outputs": []
    },
    {
      "cell_type": "code",
      "source": [
        "# Setup data inputs\n",
        "import tensorflow as tf\n",
        "IMG_SIZE = (224, 224)\n",
        "\n",
        "train_data_all_10_percent = tf.keras.preprocessing.image_dataset_from_directory(train_dir,\n",
        "                                                                                label_mode=\"categorical\",\n",
        "                                                                                image_size=IMG_SIZE)\n",
        "\n",
        "test_data = tf.keras.preprocessing.image_dataset_from_directory(test_dir,\n",
        "                                                                label_mode=\"categorical\",\n",
        "                                                                image_size=IMG_SIZE,\n",
        "                                                                shuffle=False)  # don't shuffle test data for prediction analysis"
      ],
      "metadata": {
        "colab": {
          "base_uri": "https://localhost:8080/"
        },
        "id": "QZhF5VBcXSvk",
        "outputId": "a35baf80-66c0-4156-dabc-e9e011c6b2f3"
      },
      "execution_count": 62,
      "outputs": [
        {
          "output_type": "stream",
          "name": "stdout",
          "text": [
            "Found 7575 files belonging to 101 classes.\n",
            "Found 25250 files belonging to 101 classes.\n"
          ]
        }
      ]
    },
    {
      "cell_type": "code",
      "source": [
        "class_names = train_data_all_10_percent.class_names"
      ],
      "metadata": {
        "id": "4nT7gKcVajcK"
      },
      "execution_count": 23,
      "outputs": []
    },
    {
      "cell_type": "code",
      "source": [
        "# Make a function for preprocessing images\n",
        "def preprocess_img(image, label, img_shape=224):\n",
        "  \"\"\"\n",
        "  Coverts image datatype from 'unit8' -> 'float32' and reshapes image to [img_shape, img_shape, colour_channels]\n",
        "  \"\"\"\n",
        "  image = tf.image.resize(image, [img_shape, img_shape]) # reshape target image\n",
        "  # image = image/255.  # scale image values (not required with EfficientNetBX models from tf.keras.applications)\n",
        "  return tf.cast(image, tf.float32), label # return (float32_image, label) tuple"
      ],
      "metadata": {
        "id": "H7lNkphtYkk-"
      },
      "execution_count": 53,
      "outputs": []
    },
    {
      "cell_type": "code",
      "source": [
        "# Map preprocessing function to training (and parallelize)\n",
        "train_data_all_10_percent = train_data_all_10_percent.map(map_func=preprocess_img, num_parallel_calls=tf.data.AUTOTUNE)\n",
        "# Shuffle train_data and turn it into batches and prefetch it (load it faster)\n",
        "train_data = train_data_all_10_percent.shuffle(buffer_size=1000).batch(batch_size=32).prefetch(buffer_size=tf.data.AUTOTUNE)\n",
        "\n",
        "# Map preprocessing function to test data\n",
        "test_data = test_data.map(preprocess_img, num_parallel_calls=tf.data.AUTOTUNE).batch(32).prefetch(tf.data.AUTOTUNE)"
      ],
      "metadata": {
        "id": "a75r1DdTXU1b"
      },
      "execution_count": 55,
      "outputs": []
    },
    {
      "cell_type": "code",
      "source": [
        "train_data, test_data"
      ],
      "metadata": {
        "colab": {
          "base_uri": "https://localhost:8080/"
        },
        "id": "-1Wji-UhXeJb",
        "outputId": "12f2745a-a89c-4cc6-e599-4388d899bafa"
      },
      "execution_count": 57,
      "outputs": [
        {
          "output_type": "execute_result",
          "data": {
            "text/plain": [
              "(<_PrefetchDataset element_spec=(TensorSpec(shape=(None, None, 224, 224, 3), dtype=tf.float32, name=None), TensorSpec(shape=(None, None, 101), dtype=tf.float32, name=None))>,\n",
              " <_PrefetchDataset element_spec=(TensorSpec(shape=(None, None, 224, 224, 3), dtype=tf.float32, name=None), TensorSpec(shape=(None, None, 101), dtype=tf.float32, name=None))>)"
            ]
          },
          "metadata": {},
          "execution_count": 57
        }
      ]
    },
    {
      "cell_type": "code",
      "source": [
        "# Download helper functions script\n",
        "!wget https://raw.githubusercontent.com/mrdbourke/tensorflow-deep-learning/main/extras/helper_functions.py"
      ],
      "metadata": {
        "colab": {
          "base_uri": "https://localhost:8080/"
        },
        "id": "SEDQR78SZykn",
        "outputId": "fc9fd613-a817-45de-b5ed-dae783517655"
      },
      "execution_count": 15,
      "outputs": [
        {
          "output_type": "stream",
          "name": "stdout",
          "text": [
            "--2023-10-13 23:37:44--  https://raw.githubusercontent.com/mrdbourke/tensorflow-deep-learning/main/extras/helper_functions.py\n",
            "Resolving raw.githubusercontent.com (raw.githubusercontent.com)... 185.199.110.133, 185.199.109.133, 185.199.111.133, ...\n",
            "Connecting to raw.githubusercontent.com (raw.githubusercontent.com)|185.199.110.133|:443... connected.\n",
            "HTTP request sent, awaiting response... 200 OK\n",
            "Length: 10246 (10K) [text/plain]\n",
            "Saving to: ‘helper_functions.py’\n",
            "\n",
            "helper_functions.py 100%[===================>]  10.01K  --.-KB/s    in 0s      \n",
            "\n",
            "2023-10-13 23:37:44 (120 MB/s) - ‘helper_functions.py’ saved [10246/10246]\n",
            "\n"
          ]
        }
      ]
    },
    {
      "cell_type": "code",
      "source": [
        "# Import series of helper functions for the notebook\n",
        "from helper_functions import create_tensorboard_callback, plot_loss_curves, compare_historys"
      ],
      "metadata": {
        "id": "mYjTsDzOZ0Ta"
      },
      "execution_count": 16,
      "outputs": []
    },
    {
      "cell_type": "code",
      "source": [
        "# Create tensorboard callback (import from helper_functions.py)\n",
        "from helper_functions import create_tensorboard_callback\n",
        "\n",
        "# Create ModelCheckpoint callback to save a model's progress during training\n",
        "checkpoint_path = \"model_checkpoints/cp.ckpt\"\n",
        "model_checkpoint = tf.keras.callbacks.ModelCheckpoint(checkpoint_path,\n",
        "                                                      monitor=\"val_acc\",\n",
        "                                                      save_best_only=True,\n",
        "                                                      save_weights_only=True,\n",
        "                                                      verbose=0) # don't print whether or not model is being saved"
      ],
      "metadata": {
        "id": "yHQChjcxZrBG"
      },
      "execution_count": 17,
      "outputs": []
    },
    {
      "cell_type": "code",
      "source": [
        "# Turn on mixed precision training\n",
        "from tensorflow.keras import mixed_precision\n",
        "mixed_precision.set_global_policy(\"mixed_float16\")"
      ],
      "metadata": {
        "id": "7Gc5-LBOZ3z1"
      },
      "execution_count": 18,
      "outputs": []
    },
    {
      "cell_type": "code",
      "source": [
        "!nvidia-smi"
      ],
      "metadata": {
        "colab": {
          "base_uri": "https://localhost:8080/"
        },
        "id": "R6RQ84kZaFIQ",
        "outputId": "9298d194-f8ae-4f79-cd78-2c4ed503dd52"
      },
      "execution_count": 19,
      "outputs": [
        {
          "output_type": "stream",
          "name": "stdout",
          "text": [
            "Fri Oct 13 23:39:02 2023       \n",
            "+-----------------------------------------------------------------------------+\n",
            "| NVIDIA-SMI 525.105.17   Driver Version: 525.105.17   CUDA Version: 12.0     |\n",
            "|-------------------------------+----------------------+----------------------+\n",
            "| GPU  Name        Persistence-M| Bus-Id        Disp.A | Volatile Uncorr. ECC |\n",
            "| Fan  Temp  Perf  Pwr:Usage/Cap|         Memory-Usage | GPU-Util  Compute M. |\n",
            "|                               |                      |               MIG M. |\n",
            "|===============================+======================+======================|\n",
            "|   0  Tesla T4            Off  | 00000000:00:04.0 Off |                    0 |\n",
            "| N/A   59C    P0    28W /  70W |    361MiB / 15360MiB |      0%      Default |\n",
            "|                               |                      |                  N/A |\n",
            "+-------------------------------+----------------------+----------------------+\n",
            "                                                                               \n",
            "+-----------------------------------------------------------------------------+\n",
            "| Processes:                                                                  |\n",
            "|  GPU   GI   CI        PID   Type   Process name                  GPU Memory |\n",
            "|        ID   ID                                                   Usage      |\n",
            "|=============================================================================|\n",
            "+-----------------------------------------------------------------------------+\n"
          ]
        }
      ]
    },
    {
      "cell_type": "code",
      "source": [
        "mixed_precision.global_policy()"
      ],
      "metadata": {
        "colab": {
          "base_uri": "https://localhost:8080/"
        },
        "id": "jhovjGHRaHA5",
        "outputId": "2227891f-1622-4cae-9b8d-ba9294ecf89a"
      },
      "execution_count": 20,
      "outputs": [
        {
          "output_type": "execute_result",
          "data": {
            "text/plain": [
              "<Policy \"mixed_float16\">"
            ]
          },
          "metadata": {},
          "execution_count": 20
        }
      ]
    },
    {
      "cell_type": "code",
      "source": [
        "from tensorflow.keras import layers\n",
        "from tensorflow.keras.layers.experimental import preprocessing\n",
        "\n",
        "# Create base model\n",
        "input_shape = (224, 224, 3)\n",
        "base_model = tf.keras.applications.EfficientNetB0(include_top=False)\n",
        "base_model.trainable = False\n",
        "\n",
        "# Create functional model\n",
        "inputs = layers.Input(shape=input_shape, name=\"input_layer\")\n",
        "# Note: EfficientNetBX models have rescaling built-in but if your model doesn't you can have a layer like below\n",
        "# X = preprocessing.Rescaling(1./255)(x)\n",
        "x = base_model(inputs, training=False)    # make sure layers which should be inference mode only stay like that\n",
        "x = layers.GlobalAveragePooling2D()(x)\n",
        "x = layers.Dense(len(class_names))(x)\n",
        "outputs = layers.Activation(\"softmax\", dtype=\"float32\", name=\"softmax_float32\")(x)\n",
        "model = tf.keras.Model(inputs, outputs)\n",
        "\n",
        "# Compile the model\n",
        "model.compile(loss=\"categorical_crossentropy\",\n",
        "              optimizer=tf.keras.optimizers.Adam(),\n",
        "              metrics=[\"accuracy\"])"
      ],
      "metadata": {
        "id": "h8WJGwEQaIdI"
      },
      "execution_count": 66,
      "outputs": []
    },
    {
      "cell_type": "code",
      "source": [
        "model.summary()"
      ],
      "metadata": {
        "colab": {
          "base_uri": "https://localhost:8080/"
        },
        "id": "4guJ-nIMawRq",
        "outputId": "140a018c-b60f-4acb-8fe4-18121dc1c15a"
      },
      "execution_count": 26,
      "outputs": [
        {
          "output_type": "stream",
          "name": "stdout",
          "text": [
            "Model: \"model\"\n",
            "_________________________________________________________________\n",
            " Layer (type)                Output Shape              Param #   \n",
            "=================================================================\n",
            " input_layer (InputLayer)    [(None, 224, 224, 3)]     0         \n",
            "                                                                 \n",
            " efficientnetb0 (Functional  (None, None, None, 1280   4049571   \n",
            " )                           )                                   \n",
            "                                                                 \n",
            " global_average_pooling2d_1  (None, 1280)              0         \n",
            "  (GlobalAveragePooling2D)                                       \n",
            "                                                                 \n",
            " dense (Dense)               (None, 101)               129381    \n",
            "                                                                 \n",
            " softmax_float32 (Activatio  (None, 101)               0         \n",
            " n)                                                              \n",
            "                                                                 \n",
            "=================================================================\n",
            "Total params: 4178952 (15.94 MB)\n",
            "Trainable params: 129381 (505.39 KB)\n",
            "Non-trainable params: 4049571 (15.45 MB)\n",
            "_________________________________________________________________\n"
          ]
        }
      ]
    },
    {
      "cell_type": "code",
      "source": [
        "# Check the dtype_policy attributes of layers in our model\n",
        "for layer in model.layers:\n",
        "  print(layer.name, layer.trainable, layer.dtype, layer.dtype_policy)"
      ],
      "metadata": {
        "colab": {
          "base_uri": "https://localhost:8080/"
        },
        "id": "ptYET9rNaxBn",
        "outputId": "de852416-c65e-46a0-9990-e1289cfef265"
      },
      "execution_count": 27,
      "outputs": [
        {
          "output_type": "stream",
          "name": "stdout",
          "text": [
            "input_layer True float32 <Policy \"float32\">\n",
            "efficientnetb0 False float32 <Policy \"mixed_float16\">\n",
            "global_average_pooling2d_1 True float32 <Policy \"mixed_float16\">\n",
            "dense True float32 <Policy \"mixed_float16\">\n",
            "softmax_float32 True float32 <Policy \"float32\">\n"
          ]
        }
      ]
    },
    {
      "cell_type": "code",
      "source": [
        "# Check the dtype policy attributes of layers attributes of layer in the base model\n",
        "for layer in model.layers[1].layers: # check the layers of the base model (layer at index 1 of `model`)\n",
        "  print(layer.name, layer.trainable, layer.dtype, layer.dtype_policy)"
      ],
      "metadata": {
        "colab": {
          "base_uri": "https://localhost:8080/"
        },
        "id": "nAlR_w3La9TX",
        "outputId": "71bf4ec3-2c3a-40d0-b1cd-f083794abb02"
      },
      "execution_count": 28,
      "outputs": [
        {
          "output_type": "stream",
          "name": "stdout",
          "text": [
            "input_2 False float32 <Policy \"float32\">\n",
            "rescaling_2 False float32 <Policy \"mixed_float16\">\n",
            "normalization_1 False float32 <Policy \"mixed_float16\">\n",
            "rescaling_3 False float32 <Policy \"mixed_float16\">\n",
            "stem_conv_pad False float32 <Policy \"mixed_float16\">\n",
            "stem_conv False float32 <Policy \"mixed_float16\">\n",
            "stem_bn False float32 <Policy \"mixed_float16\">\n",
            "stem_activation False float32 <Policy \"mixed_float16\">\n",
            "block1a_dwconv False float32 <Policy \"mixed_float16\">\n",
            "block1a_bn False float32 <Policy \"mixed_float16\">\n",
            "block1a_activation False float32 <Policy \"mixed_float16\">\n",
            "block1a_se_squeeze False float32 <Policy \"mixed_float16\">\n",
            "block1a_se_reshape False float32 <Policy \"mixed_float16\">\n",
            "block1a_se_reduce False float32 <Policy \"mixed_float16\">\n",
            "block1a_se_expand False float32 <Policy \"mixed_float16\">\n",
            "block1a_se_excite False float32 <Policy \"mixed_float16\">\n",
            "block1a_project_conv False float32 <Policy \"mixed_float16\">\n",
            "block1a_project_bn False float32 <Policy \"mixed_float16\">\n",
            "block2a_expand_conv False float32 <Policy \"mixed_float16\">\n",
            "block2a_expand_bn False float32 <Policy \"mixed_float16\">\n",
            "block2a_expand_activation False float32 <Policy \"mixed_float16\">\n",
            "block2a_dwconv_pad False float32 <Policy \"mixed_float16\">\n",
            "block2a_dwconv False float32 <Policy \"mixed_float16\">\n",
            "block2a_bn False float32 <Policy \"mixed_float16\">\n",
            "block2a_activation False float32 <Policy \"mixed_float16\">\n",
            "block2a_se_squeeze False float32 <Policy \"mixed_float16\">\n",
            "block2a_se_reshape False float32 <Policy \"mixed_float16\">\n",
            "block2a_se_reduce False float32 <Policy \"mixed_float16\">\n",
            "block2a_se_expand False float32 <Policy \"mixed_float16\">\n",
            "block2a_se_excite False float32 <Policy \"mixed_float16\">\n",
            "block2a_project_conv False float32 <Policy \"mixed_float16\">\n",
            "block2a_project_bn False float32 <Policy \"mixed_float16\">\n",
            "block2b_expand_conv False float32 <Policy \"mixed_float16\">\n",
            "block2b_expand_bn False float32 <Policy \"mixed_float16\">\n",
            "block2b_expand_activation False float32 <Policy \"mixed_float16\">\n",
            "block2b_dwconv False float32 <Policy \"mixed_float16\">\n",
            "block2b_bn False float32 <Policy \"mixed_float16\">\n",
            "block2b_activation False float32 <Policy \"mixed_float16\">\n",
            "block2b_se_squeeze False float32 <Policy \"mixed_float16\">\n",
            "block2b_se_reshape False float32 <Policy \"mixed_float16\">\n",
            "block2b_se_reduce False float32 <Policy \"mixed_float16\">\n",
            "block2b_se_expand False float32 <Policy \"mixed_float16\">\n",
            "block2b_se_excite False float32 <Policy \"mixed_float16\">\n",
            "block2b_project_conv False float32 <Policy \"mixed_float16\">\n",
            "block2b_project_bn False float32 <Policy \"mixed_float16\">\n",
            "block2b_drop False float32 <Policy \"mixed_float16\">\n",
            "block2b_add False float32 <Policy \"mixed_float16\">\n",
            "block3a_expand_conv False float32 <Policy \"mixed_float16\">\n",
            "block3a_expand_bn False float32 <Policy \"mixed_float16\">\n",
            "block3a_expand_activation False float32 <Policy \"mixed_float16\">\n",
            "block3a_dwconv_pad False float32 <Policy \"mixed_float16\">\n",
            "block3a_dwconv False float32 <Policy \"mixed_float16\">\n",
            "block3a_bn False float32 <Policy \"mixed_float16\">\n",
            "block3a_activation False float32 <Policy \"mixed_float16\">\n",
            "block3a_se_squeeze False float32 <Policy \"mixed_float16\">\n",
            "block3a_se_reshape False float32 <Policy \"mixed_float16\">\n",
            "block3a_se_reduce False float32 <Policy \"mixed_float16\">\n",
            "block3a_se_expand False float32 <Policy \"mixed_float16\">\n",
            "block3a_se_excite False float32 <Policy \"mixed_float16\">\n",
            "block3a_project_conv False float32 <Policy \"mixed_float16\">\n",
            "block3a_project_bn False float32 <Policy \"mixed_float16\">\n",
            "block3b_expand_conv False float32 <Policy \"mixed_float16\">\n",
            "block3b_expand_bn False float32 <Policy \"mixed_float16\">\n",
            "block3b_expand_activation False float32 <Policy \"mixed_float16\">\n",
            "block3b_dwconv False float32 <Policy \"mixed_float16\">\n",
            "block3b_bn False float32 <Policy \"mixed_float16\">\n",
            "block3b_activation False float32 <Policy \"mixed_float16\">\n",
            "block3b_se_squeeze False float32 <Policy \"mixed_float16\">\n",
            "block3b_se_reshape False float32 <Policy \"mixed_float16\">\n",
            "block3b_se_reduce False float32 <Policy \"mixed_float16\">\n",
            "block3b_se_expand False float32 <Policy \"mixed_float16\">\n",
            "block3b_se_excite False float32 <Policy \"mixed_float16\">\n",
            "block3b_project_conv False float32 <Policy \"mixed_float16\">\n",
            "block3b_project_bn False float32 <Policy \"mixed_float16\">\n",
            "block3b_drop False float32 <Policy \"mixed_float16\">\n",
            "block3b_add False float32 <Policy \"mixed_float16\">\n",
            "block4a_expand_conv False float32 <Policy \"mixed_float16\">\n",
            "block4a_expand_bn False float32 <Policy \"mixed_float16\">\n",
            "block4a_expand_activation False float32 <Policy \"mixed_float16\">\n",
            "block4a_dwconv_pad False float32 <Policy \"mixed_float16\">\n",
            "block4a_dwconv False float32 <Policy \"mixed_float16\">\n",
            "block4a_bn False float32 <Policy \"mixed_float16\">\n",
            "block4a_activation False float32 <Policy \"mixed_float16\">\n",
            "block4a_se_squeeze False float32 <Policy \"mixed_float16\">\n",
            "block4a_se_reshape False float32 <Policy \"mixed_float16\">\n",
            "block4a_se_reduce False float32 <Policy \"mixed_float16\">\n",
            "block4a_se_expand False float32 <Policy \"mixed_float16\">\n",
            "block4a_se_excite False float32 <Policy \"mixed_float16\">\n",
            "block4a_project_conv False float32 <Policy \"mixed_float16\">\n",
            "block4a_project_bn False float32 <Policy \"mixed_float16\">\n",
            "block4b_expand_conv False float32 <Policy \"mixed_float16\">\n",
            "block4b_expand_bn False float32 <Policy \"mixed_float16\">\n",
            "block4b_expand_activation False float32 <Policy \"mixed_float16\">\n",
            "block4b_dwconv False float32 <Policy \"mixed_float16\">\n",
            "block4b_bn False float32 <Policy \"mixed_float16\">\n",
            "block4b_activation False float32 <Policy \"mixed_float16\">\n",
            "block4b_se_squeeze False float32 <Policy \"mixed_float16\">\n",
            "block4b_se_reshape False float32 <Policy \"mixed_float16\">\n",
            "block4b_se_reduce False float32 <Policy \"mixed_float16\">\n",
            "block4b_se_expand False float32 <Policy \"mixed_float16\">\n",
            "block4b_se_excite False float32 <Policy \"mixed_float16\">\n",
            "block4b_project_conv False float32 <Policy \"mixed_float16\">\n",
            "block4b_project_bn False float32 <Policy \"mixed_float16\">\n",
            "block4b_drop False float32 <Policy \"mixed_float16\">\n",
            "block4b_add False float32 <Policy \"mixed_float16\">\n",
            "block4c_expand_conv False float32 <Policy \"mixed_float16\">\n",
            "block4c_expand_bn False float32 <Policy \"mixed_float16\">\n",
            "block4c_expand_activation False float32 <Policy \"mixed_float16\">\n",
            "block4c_dwconv False float32 <Policy \"mixed_float16\">\n",
            "block4c_bn False float32 <Policy \"mixed_float16\">\n",
            "block4c_activation False float32 <Policy \"mixed_float16\">\n",
            "block4c_se_squeeze False float32 <Policy \"mixed_float16\">\n",
            "block4c_se_reshape False float32 <Policy \"mixed_float16\">\n",
            "block4c_se_reduce False float32 <Policy \"mixed_float16\">\n",
            "block4c_se_expand False float32 <Policy \"mixed_float16\">\n",
            "block4c_se_excite False float32 <Policy \"mixed_float16\">\n",
            "block4c_project_conv False float32 <Policy \"mixed_float16\">\n",
            "block4c_project_bn False float32 <Policy \"mixed_float16\">\n",
            "block4c_drop False float32 <Policy \"mixed_float16\">\n",
            "block4c_add False float32 <Policy \"mixed_float16\">\n",
            "block5a_expand_conv False float32 <Policy \"mixed_float16\">\n",
            "block5a_expand_bn False float32 <Policy \"mixed_float16\">\n",
            "block5a_expand_activation False float32 <Policy \"mixed_float16\">\n",
            "block5a_dwconv False float32 <Policy \"mixed_float16\">\n",
            "block5a_bn False float32 <Policy \"mixed_float16\">\n",
            "block5a_activation False float32 <Policy \"mixed_float16\">\n",
            "block5a_se_squeeze False float32 <Policy \"mixed_float16\">\n",
            "block5a_se_reshape False float32 <Policy \"mixed_float16\">\n",
            "block5a_se_reduce False float32 <Policy \"mixed_float16\">\n",
            "block5a_se_expand False float32 <Policy \"mixed_float16\">\n",
            "block5a_se_excite False float32 <Policy \"mixed_float16\">\n",
            "block5a_project_conv False float32 <Policy \"mixed_float16\">\n",
            "block5a_project_bn False float32 <Policy \"mixed_float16\">\n",
            "block5b_expand_conv False float32 <Policy \"mixed_float16\">\n",
            "block5b_expand_bn False float32 <Policy \"mixed_float16\">\n",
            "block5b_expand_activation False float32 <Policy \"mixed_float16\">\n",
            "block5b_dwconv False float32 <Policy \"mixed_float16\">\n",
            "block5b_bn False float32 <Policy \"mixed_float16\">\n",
            "block5b_activation False float32 <Policy \"mixed_float16\">\n",
            "block5b_se_squeeze False float32 <Policy \"mixed_float16\">\n",
            "block5b_se_reshape False float32 <Policy \"mixed_float16\">\n",
            "block5b_se_reduce False float32 <Policy \"mixed_float16\">\n",
            "block5b_se_expand False float32 <Policy \"mixed_float16\">\n",
            "block5b_se_excite False float32 <Policy \"mixed_float16\">\n",
            "block5b_project_conv False float32 <Policy \"mixed_float16\">\n",
            "block5b_project_bn False float32 <Policy \"mixed_float16\">\n",
            "block5b_drop False float32 <Policy \"mixed_float16\">\n",
            "block5b_add False float32 <Policy \"mixed_float16\">\n",
            "block5c_expand_conv False float32 <Policy \"mixed_float16\">\n",
            "block5c_expand_bn False float32 <Policy \"mixed_float16\">\n",
            "block5c_expand_activation False float32 <Policy \"mixed_float16\">\n",
            "block5c_dwconv False float32 <Policy \"mixed_float16\">\n",
            "block5c_bn False float32 <Policy \"mixed_float16\">\n",
            "block5c_activation False float32 <Policy \"mixed_float16\">\n",
            "block5c_se_squeeze False float32 <Policy \"mixed_float16\">\n",
            "block5c_se_reshape False float32 <Policy \"mixed_float16\">\n",
            "block5c_se_reduce False float32 <Policy \"mixed_float16\">\n",
            "block5c_se_expand False float32 <Policy \"mixed_float16\">\n",
            "block5c_se_excite False float32 <Policy \"mixed_float16\">\n",
            "block5c_project_conv False float32 <Policy \"mixed_float16\">\n",
            "block5c_project_bn False float32 <Policy \"mixed_float16\">\n",
            "block5c_drop False float32 <Policy \"mixed_float16\">\n",
            "block5c_add False float32 <Policy \"mixed_float16\">\n",
            "block6a_expand_conv False float32 <Policy \"mixed_float16\">\n",
            "block6a_expand_bn False float32 <Policy \"mixed_float16\">\n",
            "block6a_expand_activation False float32 <Policy \"mixed_float16\">\n",
            "block6a_dwconv_pad False float32 <Policy \"mixed_float16\">\n",
            "block6a_dwconv False float32 <Policy \"mixed_float16\">\n",
            "block6a_bn False float32 <Policy \"mixed_float16\">\n",
            "block6a_activation False float32 <Policy \"mixed_float16\">\n",
            "block6a_se_squeeze False float32 <Policy \"mixed_float16\">\n",
            "block6a_se_reshape False float32 <Policy \"mixed_float16\">\n",
            "block6a_se_reduce False float32 <Policy \"mixed_float16\">\n",
            "block6a_se_expand False float32 <Policy \"mixed_float16\">\n",
            "block6a_se_excite False float32 <Policy \"mixed_float16\">\n",
            "block6a_project_conv False float32 <Policy \"mixed_float16\">\n",
            "block6a_project_bn False float32 <Policy \"mixed_float16\">\n",
            "block6b_expand_conv False float32 <Policy \"mixed_float16\">\n",
            "block6b_expand_bn False float32 <Policy \"mixed_float16\">\n",
            "block6b_expand_activation False float32 <Policy \"mixed_float16\">\n",
            "block6b_dwconv False float32 <Policy \"mixed_float16\">\n",
            "block6b_bn False float32 <Policy \"mixed_float16\">\n",
            "block6b_activation False float32 <Policy \"mixed_float16\">\n",
            "block6b_se_squeeze False float32 <Policy \"mixed_float16\">\n",
            "block6b_se_reshape False float32 <Policy \"mixed_float16\">\n",
            "block6b_se_reduce False float32 <Policy \"mixed_float16\">\n",
            "block6b_se_expand False float32 <Policy \"mixed_float16\">\n",
            "block6b_se_excite False float32 <Policy \"mixed_float16\">\n",
            "block6b_project_conv False float32 <Policy \"mixed_float16\">\n",
            "block6b_project_bn False float32 <Policy \"mixed_float16\">\n",
            "block6b_drop False float32 <Policy \"mixed_float16\">\n",
            "block6b_add False float32 <Policy \"mixed_float16\">\n",
            "block6c_expand_conv False float32 <Policy \"mixed_float16\">\n",
            "block6c_expand_bn False float32 <Policy \"mixed_float16\">\n",
            "block6c_expand_activation False float32 <Policy \"mixed_float16\">\n",
            "block6c_dwconv False float32 <Policy \"mixed_float16\">\n",
            "block6c_bn False float32 <Policy \"mixed_float16\">\n",
            "block6c_activation False float32 <Policy \"mixed_float16\">\n",
            "block6c_se_squeeze False float32 <Policy \"mixed_float16\">\n",
            "block6c_se_reshape False float32 <Policy \"mixed_float16\">\n",
            "block6c_se_reduce False float32 <Policy \"mixed_float16\">\n",
            "block6c_se_expand False float32 <Policy \"mixed_float16\">\n",
            "block6c_se_excite False float32 <Policy \"mixed_float16\">\n",
            "block6c_project_conv False float32 <Policy \"mixed_float16\">\n",
            "block6c_project_bn False float32 <Policy \"mixed_float16\">\n",
            "block6c_drop False float32 <Policy \"mixed_float16\">\n",
            "block6c_add False float32 <Policy \"mixed_float16\">\n",
            "block6d_expand_conv False float32 <Policy \"mixed_float16\">\n",
            "block6d_expand_bn False float32 <Policy \"mixed_float16\">\n",
            "block6d_expand_activation False float32 <Policy \"mixed_float16\">\n",
            "block6d_dwconv False float32 <Policy \"mixed_float16\">\n",
            "block6d_bn False float32 <Policy \"mixed_float16\">\n",
            "block6d_activation False float32 <Policy \"mixed_float16\">\n",
            "block6d_se_squeeze False float32 <Policy \"mixed_float16\">\n",
            "block6d_se_reshape False float32 <Policy \"mixed_float16\">\n",
            "block6d_se_reduce False float32 <Policy \"mixed_float16\">\n",
            "block6d_se_expand False float32 <Policy \"mixed_float16\">\n",
            "block6d_se_excite False float32 <Policy \"mixed_float16\">\n",
            "block6d_project_conv False float32 <Policy \"mixed_float16\">\n",
            "block6d_project_bn False float32 <Policy \"mixed_float16\">\n",
            "block6d_drop False float32 <Policy \"mixed_float16\">\n",
            "block6d_add False float32 <Policy \"mixed_float16\">\n",
            "block7a_expand_conv False float32 <Policy \"mixed_float16\">\n",
            "block7a_expand_bn False float32 <Policy \"mixed_float16\">\n",
            "block7a_expand_activation False float32 <Policy \"mixed_float16\">\n",
            "block7a_dwconv False float32 <Policy \"mixed_float16\">\n",
            "block7a_bn False float32 <Policy \"mixed_float16\">\n",
            "block7a_activation False float32 <Policy \"mixed_float16\">\n",
            "block7a_se_squeeze False float32 <Policy \"mixed_float16\">\n",
            "block7a_se_reshape False float32 <Policy \"mixed_float16\">\n",
            "block7a_se_reduce False float32 <Policy \"mixed_float16\">\n",
            "block7a_se_expand False float32 <Policy \"mixed_float16\">\n",
            "block7a_se_excite False float32 <Policy \"mixed_float16\">\n",
            "block7a_project_conv False float32 <Policy \"mixed_float16\">\n",
            "block7a_project_bn False float32 <Policy \"mixed_float16\">\n",
            "top_conv False float32 <Policy \"mixed_float16\">\n",
            "top_bn False float32 <Policy \"mixed_float16\">\n",
            "top_activation False float32 <Policy \"mixed_float16\">\n"
          ]
        }
      ]
    },
    {
      "cell_type": "code",
      "source": [
        "## Fit the feature extraction model with callbacks\n",
        "history_101_food_classes_feature_extract = model.fit(train_data_all_10_percent,\n",
        "                                                     epochs=10,\n",
        "                                                     steps_per_epoch=(len(train_data_all_10_percent)),\n",
        "                                                     validation_data=test_data,\n",
        "                                                     validation_steps=int(0.15 * len(test_data)),\n",
        "                                                     callbacks=[create_tensorboard_callback(dir_name=\"training_logs\",\n",
        "                                                                                            experiment_name=\"efficientnetb0_101_classes_all_data_feature_extract\"),\n",
        "                                                                model_checkpoint])"
      ],
      "metadata": {
        "colab": {
          "base_uri": "https://localhost:8080/"
        },
        "id": "90gO_f7Za_79",
        "outputId": "b31a1857-bafd-4863-8865-29142145d77a"
      },
      "execution_count": 68,
      "outputs": [
        {
          "output_type": "stream",
          "name": "stdout",
          "text": [
            "Saving TensorBoard log files to: training_logs/efficientnetb0_101_classes_all_data_feature_extract/20231014-004408\n",
            "Epoch 1/10\n",
            "236/237 [============================>.] - ETA: 0s - loss: 1.1059 - accuracy: 0.7554"
          ]
        },
        {
          "output_type": "stream",
          "name": "stderr",
          "text": [
            "WARNING:tensorflow:Can save best model only with val_acc available, skipping.\n"
          ]
        },
        {
          "output_type": "stream",
          "name": "stdout",
          "text": [
            "\b\b\b\b\b\b\b\b\b\b\b\b\b\b\b\b\b\b\b\b\b\b\b\b\b\b\b\b\b\b\b\b\b\b\b\b\b\b\b\b\b\b\b\b\b\b\b\b\b\b\b\b\b\b\b\b\b\b\b\b\b\b\b\b\b\b\b\b\b\b\b\b\b\b\b\b\b\b\b\b\b\b\b\b\r237/237 [==============================] - 27s 110ms/step - loss: 1.1050 - accuracy: 0.7556 - val_loss: 1.6358 - val_accuracy: 0.5702\n",
            "Epoch 2/10\n",
            "237/237 [==============================] - ETA: 0s - loss: 0.9350 - accuracy: 0.7999"
          ]
        },
        {
          "output_type": "stream",
          "name": "stderr",
          "text": [
            "WARNING:tensorflow:Can save best model only with val_acc available, skipping.\n"
          ]
        },
        {
          "output_type": "stream",
          "name": "stdout",
          "text": [
            "\b\b\b\b\b\b\b\b\b\b\b\b\b\b\b\b\b\b\b\b\b\b\b\b\b\b\b\b\b\b\b\b\b\b\b\b\b\b\b\b\b\b\b\b\b\b\b\b\b\b\b\b\b\b\b\b\b\b\b\b\b\b\b\b\b\b\b\b\b\b\b\b\b\b\b\b\b\b\b\b\b\b\b\b\r237/237 [==============================] - 28s 115ms/step - loss: 0.9350 - accuracy: 0.7999 - val_loss: 1.6076 - val_accuracy: 0.5760\n",
            "Epoch 3/10\n",
            "237/237 [==============================] - ETA: 0s - loss: 0.8008 - accuracy: 0.8367"
          ]
        },
        {
          "output_type": "stream",
          "name": "stderr",
          "text": [
            "WARNING:tensorflow:Can save best model only with val_acc available, skipping.\n"
          ]
        },
        {
          "output_type": "stream",
          "name": "stdout",
          "text": [
            "\b\b\b\b\b\b\b\b\b\b\b\b\b\b\b\b\b\b\b\b\b\b\b\b\b\b\b\b\b\b\b\b\b\b\b\b\b\b\b\b\b\b\b\b\b\b\b\b\b\b\b\b\b\b\b\b\b\b\b\b\b\b\b\b\b\b\b\b\b\b\b\b\b\b\b\b\b\b\b\b\b\b\b\b\r237/237 [==============================] - 25s 102ms/step - loss: 0.8008 - accuracy: 0.8367 - val_loss: 1.5613 - val_accuracy: 0.5810\n",
            "Epoch 4/10\n",
            "237/237 [==============================] - ETA: 0s - loss: 0.6930 - accuracy: 0.8653"
          ]
        },
        {
          "output_type": "stream",
          "name": "stderr",
          "text": [
            "WARNING:tensorflow:Can save best model only with val_acc available, skipping.\n"
          ]
        },
        {
          "output_type": "stream",
          "name": "stdout",
          "text": [
            "\b\b\b\b\b\b\b\b\b\b\b\b\b\b\b\b\b\b\b\b\b\b\b\b\b\b\b\b\b\b\b\b\b\b\b\b\b\b\b\b\b\b\b\b\b\b\b\b\b\b\b\b\b\b\b\b\b\b\b\b\b\b\b\b\b\b\b\b\b\b\b\b\b\b\b\b\b\b\b\b\b\b\b\b\r237/237 [==============================] - 27s 111ms/step - loss: 0.6930 - accuracy: 0.8653 - val_loss: 1.5758 - val_accuracy: 0.5776\n",
            "Epoch 5/10\n",
            "237/237 [==============================] - ETA: 0s - loss: 0.6031 - accuracy: 0.8923"
          ]
        },
        {
          "output_type": "stream",
          "name": "stderr",
          "text": [
            "WARNING:tensorflow:Can save best model only with val_acc available, skipping.\n"
          ]
        },
        {
          "output_type": "stream",
          "name": "stdout",
          "text": [
            "\b\b\b\b\b\b\b\b\b\b\b\b\b\b\b\b\b\b\b\b\b\b\b\b\b\b\b\b\b\b\b\b\b\b\b\b\b\b\b\b\b\b\b\b\b\b\b\b\b\b\b\b\b\b\b\b\b\b\b\b\b\b\b\b\b\b\b\b\b\b\b\b\b\b\b\b\b\b\b\b\b\b\b\b\r237/237 [==============================] - 26s 110ms/step - loss: 0.6031 - accuracy: 0.8923 - val_loss: 1.5685 - val_accuracy: 0.5826\n",
            "Epoch 6/10\n",
            "237/237 [==============================] - ETA: 0s - loss: 0.5260 - accuracy: 0.9121"
          ]
        },
        {
          "output_type": "stream",
          "name": "stderr",
          "text": [
            "WARNING:tensorflow:Can save best model only with val_acc available, skipping.\n"
          ]
        },
        {
          "output_type": "stream",
          "name": "stdout",
          "text": [
            "\b\b\b\b\b\b\b\b\b\b\b\b\b\b\b\b\b\b\b\b\b\b\b\b\b\b\b\b\b\b\b\b\b\b\b\b\b\b\b\b\b\b\b\b\b\b\b\b\b\b\b\b\b\b\b\b\b\b\b\b\b\b\b\b\b\b\b\b\b\b\b\b\b\b\b\b\b\b\b\b\b\b\b\b\r237/237 [==============================] - 26s 109ms/step - loss: 0.5260 - accuracy: 0.9121 - val_loss: 1.5646 - val_accuracy: 0.5834\n",
            "Epoch 7/10\n",
            "236/237 [============================>.] - ETA: 0s - loss: 0.4614 - accuracy: 0.9306"
          ]
        },
        {
          "output_type": "stream",
          "name": "stderr",
          "text": [
            "WARNING:tensorflow:Can save best model only with val_acc available, skipping.\n"
          ]
        },
        {
          "output_type": "stream",
          "name": "stdout",
          "text": [
            "\b\b\b\b\b\b\b\b\b\b\b\b\b\b\b\b\b\b\b\b\b\b\b\b\b\b\b\b\b\b\b\b\b\b\b\b\b\b\b\b\b\b\b\b\b\b\b\b\b\b\b\b\b\b\b\b\b\b\b\b\b\b\b\b\b\b\b\b\b\b\b\b\b\b\b\b\b\b\b\b\b\b\b\b\r237/237 [==============================] - 27s 113ms/step - loss: 0.4611 - accuracy: 0.9307 - val_loss: 1.5532 - val_accuracy: 0.5866\n",
            "Epoch 8/10\n",
            "237/237 [==============================] - ETA: 0s - loss: 0.4056 - accuracy: 0.9453"
          ]
        },
        {
          "output_type": "stream",
          "name": "stderr",
          "text": [
            "WARNING:tensorflow:Can save best model only with val_acc available, skipping.\n"
          ]
        },
        {
          "output_type": "stream",
          "name": "stdout",
          "text": [
            "\b\b\b\b\b\b\b\b\b\b\b\b\b\b\b\b\b\b\b\b\b\b\b\b\b\b\b\b\b\b\b\b\b\b\b\b\b\b\b\b\b\b\b\b\b\b\b\b\b\b\b\b\b\b\b\b\b\b\b\b\b\b\b\b\b\b\b\b\b\b\b\b\b\b\b\b\b\b\b\b\b\b\b\b\r237/237 [==============================] - 28s 115ms/step - loss: 0.4056 - accuracy: 0.9453 - val_loss: 1.5487 - val_accuracy: 0.5879\n",
            "Epoch 9/10\n",
            "236/237 [============================>.] - ETA: 0s - loss: 0.3570 - accuracy: 0.9560"
          ]
        },
        {
          "output_type": "stream",
          "name": "stderr",
          "text": [
            "WARNING:tensorflow:Can save best model only with val_acc available, skipping.\n"
          ]
        },
        {
          "output_type": "stream",
          "name": "stdout",
          "text": [
            "\b\b\b\b\b\b\b\b\b\b\b\b\b\b\b\b\b\b\b\b\b\b\b\b\b\b\b\b\b\b\b\b\b\b\b\b\b\b\b\b\b\b\b\b\b\b\b\b\b\b\b\b\b\b\b\b\b\b\b\b\b\b\b\b\b\b\b\b\b\b\b\b\b\b\b\b\b\b\b\b\b\b\b\b\r237/237 [==============================] - 26s 108ms/step - loss: 0.3570 - accuracy: 0.9559 - val_loss: 1.5550 - val_accuracy: 0.5877\n",
            "Epoch 10/10\n",
            "237/237 [==============================] - ETA: 0s - loss: 0.3140 - accuracy: 0.9671"
          ]
        },
        {
          "output_type": "stream",
          "name": "stderr",
          "text": [
            "WARNING:tensorflow:Can save best model only with val_acc available, skipping.\n"
          ]
        },
        {
          "output_type": "stream",
          "name": "stdout",
          "text": [
            "\b\b\b\b\b\b\b\b\b\b\b\b\b\b\b\b\b\b\b\b\b\b\b\b\b\b\b\b\b\b\b\b\b\b\b\b\b\b\b\b\b\b\b\b\b\b\b\b\b\b\b\b\b\b\b\b\b\b\b\b\b\b\b\b\b\b\b\b\b\b\b\b\b\b\b\b\b\b\b\b\b\b\b\b\r237/237 [==============================] - 26s 108ms/step - loss: 0.3140 - accuracy: 0.9671 - val_loss: 1.5618 - val_accuracy: 0.5916\n"
          ]
        }
      ]
    }
  ]
}